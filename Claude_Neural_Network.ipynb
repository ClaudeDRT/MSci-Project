{
 "cells": [
  {
   "cell_type": "markdown",
   "metadata": {},
   "source": [
    "# CryoSat-2 Neural Network\n",
    "\n",
    "## 19th Sept 2018\n",
    "### Claude de Rijke-Thomas"
   ]
  },
  {
   "cell_type": "code",
   "execution_count": 3,
   "metadata": {},
   "outputs": [],
   "source": [
    "import numpy as np\n",
    "from keras.models import Sequential\n",
    "from keras.layers import Dense, Dropout\n",
    "from keras.optimizers import RMSprop, adam\n",
    "from keras.wrappers.scikit_learn import KerasClassifier\n",
    "from sklearn.model_selection import cross_val_score\n",
    "import pandas as pd\n",
    "import csv"
   ]
  },
  {
   "cell_type": "code",
   "execution_count": 5,
   "metadata": {},
   "outputs": [
    {
     "name": "stdout",
     "output_type": "stream",
     "text": [
      "14580\n",
      "(4860, 3)\n",
      "[[0 0 1]\n",
      " [0 0 1]\n",
      " [0 0 1]\n",
      " [0 0 1]\n",
      " [0 0 1]]\n"
     ]
    }
   ],
   "source": [
    "#reading the csv data as a data frame:\n",
    "data_frame = pd.read_csv('Echo_Characteristics.csv')\n",
    "all_classes = data_frame['Class'].values\n",
    "all_features = data_frame.drop('Class', axis=1).values\n",
    "\n",
    "one_hot_flat = []\n",
    "for label in all_classes:\n",
    "    if label =='lead':\n",
    "        one_hot_flat.extend([1,0,0])\n",
    "    if label =='ice':\n",
    "        one_hot_flat.extend([0,1,0])\n",
    "    if label=='ocean':\n",
    "        one_hot_flat.extend([0,0,1])\n",
    "print(np.shape(one_hot_flat)[0])\n",
    "#making an array of shape [[, , ],[, , ], ...]\n",
    "one_hot_labels = np.reshape(one_hot_flat, (int(round(np.shape(one_hot_flat)[0]/3)), 3)) \n",
    "print(np.shape(one_hot_labels))\n",
    "print(one_hot_labels[4000:4005])\n",
    "\n"
   ]
  },
  {
   "cell_type": "code",
   "execution_count": 6,
   "metadata": {},
   "outputs": [],
   "source": [
    "def create_model():\n",
    "    model = Sequential()\n",
    "    #adding 400 nodes to the shallow layer:\n",
    "    model.add(Dense(400, input_dim=int(5), kernel_initializer='normal', activation='relu'))\n",
    "    model.add(Dropout(0.2))\n",
    "    # Another hidden layer of 16 units\n",
    "    model.add(Dense(16, kernel_initializer='normal', activation='relu'))\n",
    "    #output layer\n",
    "    model.add(Dense(3, kernel_initializer='normal', activation='softmax'))\n",
    "    # Compile model\n",
    "    model.compile(loss='categorical_crossentropy', optimizer='adam', metrics=['accuracy'])\n",
    "    return model"
   ]
  },
  {
   "cell_type": "code",
   "execution_count": 7,
   "metadata": {},
   "outputs": [
    {
     "data": {
      "text/plain": [
       "0.9226337448559672"
      ]
     },
     "execution_count": 7,
     "metadata": {},
     "output_type": "execute_result"
    }
   ],
   "source": [
    "# Wrap our Keras model in an estimator compatible with scikit_learn\n",
    "estimator = KerasClassifier(build_fn=create_model, epochs=30, verbose=0)\n",
    "# Now we can use scikit_learn's cross_val_score to evaluate this model identically to the others\n",
    "cv_scores = cross_val_score(estimator, all_features, one_hot_labels, cv=15) # cv = train test split (k-1: 1)\n",
    "cv_scores.mean()\n",
    "\n"
   ]
  },
  {
   "cell_type": "code",
   "execution_count": null,
   "metadata": {},
   "outputs": [],
   "source": [
    "#Shallow (400 nodes), 'relu', 20% dropout, activation = softmax, optimizer = adam, cv = 10 : 0.889094650156704\n",
    "#deep1 (400 nodes, 16 nodes), 'relu', 20% dropout, activation = softmax, optimizer = adam, cv = 10 : 0.913168724230778\n",
    "##deep2 (400 nodes, 16 nodes, 16 nodes), \"\"\"\": 0.8946502056877309\n",
    "#deep1 (400 nodes, 16 nodes), 'relu', 20% dropout, activation = softmax, optimizer = adam, cv = 5 : 0.7382716049934611\n",
    "# \" cv = 15: 0.9141975308641975\n",
    "# \" 0.9265432098765433"
   ]
  }
 ],
 "metadata": {
  "anaconda-cloud": {},
  "kernelspec": {
   "display_name": "Python 3",
   "language": "python",
   "name": "python3"
  },
  "language_info": {
   "codemirror_mode": {
    "name": "ipython",
    "version": 3
   },
   "file_extension": ".py",
   "mimetype": "text/x-python",
   "name": "python",
   "nbconvert_exporter": "python",
   "pygments_lexer": "ipython3",
   "version": "3.5.4"
  }
 },
 "nbformat": 4,
 "nbformat_minor": 2
}
