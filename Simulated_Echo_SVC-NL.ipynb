{
 "cells": [
  {
   "cell_type": "markdown",
   "metadata": {},
   "source": [
    "# Simulated_Echo_SVC-2020-NL\n",
    "## Claude de Rijke-Thomas\n",
    "### 21st May 2021"
   ]
  },
  {
   "cell_type": "code",
   "execution_count": 1,
   "metadata": {},
   "outputs": [],
   "source": [
    "import scipy.io\n",
    "import numpy as np\n",
    "from scipy.integrate import simps, trapz\n",
    "import matplotlib.pyplot as plt\n",
    "from sklearn.svm import SVC\n",
    "from numba import jit, prange\n",
    "from scipy import signal\n",
    "from scipy.interpolate import interp1d"
   ]
  },
  {
   "cell_type": "markdown",
   "metadata": {},
   "source": [
    "# The Non-Lead Part (Including Non-Lead SVC)"
   ]
  },
  {
   "cell_type": "markdown",
   "metadata": {},
   "source": [
    "NLP1 corresponds to:\n",
    "$$h\\_s = [0, 0.05, 0.10, 0.15] $$\n",
    "$$l\\_surf = [0:1:10]; % large-scale correlation length (default = 5 m) $$\n",
    "$$sigma\\_si = [0.001:0.0005:0.004]; % sea ice rms height (default = 0.002 m) $$\n",
    "$$sigma\\_surf = [0:0.05:0.5]; % large-scale rms roughness height (default = 0.1 m)$$\n",
    "NLP2 corresponds to:\n",
    "$$h\\_s =  [0.20, 0.25, 0.30, 0.35]$$\n",
    "$$l\\_surf = [0:1:10]; % large-scale correlation length (default = 5 m) $$\n",
    "$$sigma\\_si = [0.001:0.0005:0.004]; % sea ice rms height (default = 0.002 m) $$\n",
    "$$sigma\\_surf = [0:0.05:0.5]; % large-scale rms roughness height (default = 0.1 m)$$\n",
    "NLP3 corresponds to:\n",
    "$$h\\_s =  [0.40, 0.45, 0.50]$$\n",
    "$$l\\_surf = [0:1:10]; % large-scale correlation length (default = 5 m) $$\n",
    "$$sigma\\_si = [0.001:0.0005:0.004]; % sea ice rms height (default = 0.002 m) $$\n",
    "$$sigma\\_surf = [0:0.05:0.5]; % large-scale rms roughness height (default = 0.1 m)$$"
   ]
  },
  {
   "cell_type": "code",
   "execution_count": 2,
   "metadata": {},
   "outputs": [],
   "source": [
    "waveform = np.loadtxt('/Users/claudederijkethomas/Desktop/Ice/Proj/CS_OFFL_SIR_SAR_1B_20140515T080546_20140515T081235_B001.wfm')\n",
    "\n",
    "\n",
    "#Had to split the non-lead echo simulations into three parts for running on remote cluster: NLP1, NLP2 and NLP3\n",
    "#(each took about 24 hours for non-lead, and 27 for lead on Myriad):\n",
    "NLP1 = scipy.io.loadmat('/Users/claudederijkethomas/Desktop/Ice/Proj/FEM_Sim_NLP1.mat')\n",
    "NLP2 = scipy.io.loadmat('/Users/claudederijkethomas/Desktop/Ice/Proj/FEM_Sim_NLP2.mat')\n",
    "NLP3 = scipy.io.loadmat('/Users/claudederijkethomas/Desktop/Ice/Proj/FEM_Sim_NLP3.mat')\n",
    "\n",
    "#added arrays containing values of the parameters iterated over (to be used as SVC labels):\n",
    "sim_params = NLP1['parameters_lookup']\n",
    "sim_params_2 = NLP2['parameters_lookup']\n",
    "sim_params_3 = NLP3['parameters_lookup']\n",
    "\n",
    "#simulated waveforms:\n",
    "sim_echoes = NLP1['P_t_ml_range']\n",
    "sim_echoes_2 = NLP2['P_t_ml_range']\n",
    "sim_echoes_3 = NLP3['P_t_ml_range']\n",
    "\n",
    "#extracting the fasttimes corresponding to the range bins:\n",
    "fasttimes_1 = NLP1['t']\n",
    "fasttimes_2 = NLP2['t']\n",
    "fasttimes_3 = NLP3['t']\n"
   ]
  },
  {
   "cell_type": "code",
   "execution_count": 3,
   "metadata": {},
   "outputs": [
    {
     "name": "stdout",
     "output_type": "stream",
     "text": [
      "gauss_interp_left_base 0\n",
      "10000\n",
      "leading edge halfway up index:  2940\n"
     ]
    }
   ],
   "source": [
    "interpolation_factor = 100\n",
    "gaussian = [(1/(5*np.sqrt(2*np.pi)))*np.exp(-((x - 35)**2)/(2*5**2)) for x in range(100)]\n",
    "gauss_xnew = np.linspace(0, len(gaussian)-1, num=(len(gaussian)*interpolation_factor), endpoint=True)\n",
    "gauss_interpolator = interp1d((range(len(gaussian))), gaussian, kind='cubic')\n",
    "gauss_interpolation = gauss_interpolator(gauss_xnew)\n",
    "gauss_interp_peak_index = np.argmax(gauss_interpolation) #the peak index of the interpolated gaussian\n",
    "gauss_interp_left_base = scipy.signal.peak_prominences(gauss_interpolation, [gauss_interp_peak_index], wlen=300*interpolation_factor)[1][0] #index of the left hand side base of the peak\n",
    "print(\"gauss_interp_left_base\",gauss_interp_left_base)\n",
    "print(len(gauss_interpolation))\n",
    "#halfway up the leading edge of the gaussian:\n",
    "gauss_interp_leading_edge_halfway_up_index = np.argmin(abs(gauss_interpolation[:np.argmax(gauss_interpolation)] - np.max(gauss_interpolation)/2))\n",
    "print(\"leading edge halfway up index: \",gauss_interp_leading_edge_halfway_up_index)\n",
    "halfway_up_uninterp_index = int(gauss_interp_leading_edge_halfway_up_index/interpolation_factor)"
   ]
  },
  {
   "cell_type": "code",
   "execution_count": 4,
   "metadata": {},
   "outputs": [
    {
     "name": "stdout",
     "output_type": "stream",
     "text": [
      "sim_gauss_interp_leading_edge_halfway_up_shift 1599\n",
      "sim_interp_leading_edge_halfway_up_index :  1341\n",
      "len(sim_interpolation) 7000\n",
      "gauss_interp_leading_edge_halfway_up_index 2940\n"
     ]
    },
    {
     "data": {
      "image/png": "[encoded data removed]",
      "text/plain": [
       "<Figure size 432x288 with 1 Axes>"
      ]
     },
     "metadata": {
      "needs_background": "light"
     },
     "output_type": "display_data"
    }
   ],
   "source": [
    "def extractNL():\n",
    "    \"\"\"extracting (and preprocessing) the simulated echo arrays into a format that can be understood by the SVC.\"\"\"\n",
    "    data_arr = []\n",
    "    label_arr = []\n",
    "    feature_arr = []\n",
    "    \n",
    "    graph_plot_counter=0\n",
    "    for i in range(len(sim_echoes[:][:][:][:])): #snow depth{s} (h_s)\n",
    "        for j in range(len(sim_echoes[0][:][:][:])): #l_surf{s}\n",
    "            for k in range(len(sim_echoes[0][0][:][:])): #sigma_si{s}\n",
    "                for l in range(len(sim_echoes[0][0][0][:])): #sigma_surf{s}\n",
    "                    \n",
    "                    \"\"\" Get rid of the %2 if time_sampling_factor = 1\"\"\"\n",
    "                    #selecting one of the simulated echoes\n",
    "                    simulated_echo = [sim_echoes[i][j][k][l][m][0] for m in range(len(sim_echoes[i][j][k][l])) if m%2==0 ]\n",
    "                    #selecting the parameter values of the simulated echo:\n",
    "                    sim_echo_params = [sim_params[i][j][k][l][0][n] for n in range(len(sim_params[i][j][k][l][0]))]\n",
    "                    #calculating the area under the echo (for subsequent normalisation)\n",
    "                    simulated_echo_area = trapz(simulated_echo, dx = 1) \n",
    "                    #normalising the echo\n",
    "                    norm_sim_echo = [x/simulated_echo_area for x in simulated_echo]\n",
    "                    \n",
    "                    sim_xnew = np.linspace(0, len(norm_sim_echo)-1, num=(len(norm_sim_echo)*interpolation_factor), endpoint=True)\n",
    "                    sim_interpolator = interp1d((range(len(norm_sim_echo))), norm_sim_echo, kind='cubic')\n",
    "                    sim_interpolation = sim_interpolator(sim_xnew)\n",
    "                    \n",
    "                    sim_interp_peak_index = np.argmax(sim_interpolation)\n",
    "                    sim_interp_left_base = scipy.signal.peak_prominences(sim_interpolation, [sim_interp_peak_index])[1][0] #index of the left hand side base of the peak\n",
    "                    \n",
    "                    \"\"\"new stuff added – trying to align to the halway up point of the leading edges instead of the centroid of the leading edge\"\"\"\n",
    "                    step_index = sim_interp_left_base\n",
    "                    #climbing up the leading edge of the echo to get the index of the halfway point (j):\n",
    "                    while sim_interpolation[step_index]<(sim_interpolation[sim_interp_left_base]+sim_interpolation[sim_interp_peak_index])/2:\n",
    "                        step_index = step_index + 1\n",
    "                    sim_interp_leading_edge_halfway_up_index = step_index\n",
    "                    \n",
    "                    sim_gauss_interp_leading_edge_halfway_up_shift = -(sim_interp_leading_edge_halfway_up_index-gauss_interp_leading_edge_halfway_up_index)\n",
    "                    \n",
    "                    arr_sim_interp = []\n",
    "                    #lining up the simulated echo's halfway up point with the abstract gaussian's halway up the leading edge point: \n",
    "                    for a in range(len(gauss_interpolation)):\n",
    "                        try:\n",
    "                            #So that I dont accidentally start plotting the -10th, -9th index etc:\n",
    "                            if a-int(sim_gauss_interp_leading_edge_halfway_up_shift)>=0:\n",
    "                                arr_sim_interp.append(sim_interpolation[a-int(sim_gauss_interp_leading_edge_halfway_up_shift)])\n",
    "                            else:\n",
    "                                arr_sim_interp.append(0)\n",
    "                        except:\n",
    "                            arr_sim_interp.append(0)\n",
    "                    #uninterpolating the simulated echo:\n",
    "                    sim_uninterp = [arr_sim_interp[b] for b in range(len(arr_sim_interp)) if b%interpolation_factor==0]\n",
    "                    \"\"\" ending new stuff\"\"\"\n",
    "                    \n",
    "                    if graph_plot_counter<1:\n",
    "                        print(\"sim_gauss_interp_leading_edge_halfway_up_shift\",sim_gauss_interp_leading_edge_halfway_up_shift)\n",
    "                        print(\"sim_interp_leading_edge_halfway_up_index : \", sim_interp_leading_edge_halfway_up_index)\n",
    "                        print(\"len(sim_interpolation)\", len(sim_interpolation))\n",
    "                        print(\"gauss_interp_leading_edge_halfway_up_index\",gauss_interp_leading_edge_halfway_up_index)\n",
    "                        \n",
    "                        plt.plot(sim_uninterp)\n",
    "                        plt.show()\n",
    "                        graph_plot_counter+=1\n",
    "                    #appending the leading edge to the feature_arr, as well as the whole echo after it (so that the leading edge has more of an effect on the classification):\n",
    "                    feature_arr.append(np.append(sim_uninterp[halfway_up_uninterp_index-10:halfway_up_uninterp_index+10],sim_uninterp))\n",
    "                    #appending echo parameters to a label array (for the classification)\n",
    "                    label_arr.append(str(sim_echo_params))\n",
    "                    \n",
    "    for i in range(len(sim_echoes_2[:][:][:][:])): #snow depth{s} (h_s)\n",
    "        for j in range(len(sim_echoes_2[0][:][:][:])): #l_surf{s}\n",
    "            for k in range(len(sim_echoes_2[0][0][:][:])): #sigma_si{s}\n",
    "                for l in range(len(sim_echoes_2[0][0][0][:])): #sigma_surf{s}\n",
    "                    \n",
    "                    \"\"\" Get rid of the %2 if time_sampling_factor = 1\"\"\"\n",
    "                    simulated_echo = [sim_echoes_2[i][j][k][l][m][0] for m in range(len(sim_echoes_2[i][j][k][l])) if m%2==0 ]\n",
    "                    sim_echo_params = [sim_params_2[i][j][k][l][0][n] for n in range(len(sim_params_2[i][j][k][l][0]))]\n",
    "                    simulated_echo_area = trapz(simulated_echo, dx = 1) \n",
    "                    norm_sim_echo = [x/simulated_echo_area for x in simulated_echo]\n",
    "                    \n",
    "                    sim_xnew = np.linspace(0, len(norm_sim_echo)-1, num=(len(norm_sim_echo)*interpolation_factor), endpoint=True)\n",
    "                    sim_interpolator = interp1d((range(len(norm_sim_echo))), norm_sim_echo, kind='cubic')\n",
    "                    sim_interpolation = sim_interpolator(sim_xnew)\n",
    "                    sim_interp_peak_index = np.argmax(sim_interpolation)\n",
    "                    sim_interp_left_base = scipy.signal.peak_prominences(sim_interpolation, [sim_interp_peak_index])[1][0] #index of the left hand side base of the peak\n",
    "                    \n",
    "                    \"\"\"new stuff added – trying to align to the halway up point of the leading edges instead of the centroid of the leading edge\"\"\"\n",
    "                    step_index = sim_interp_left_base\n",
    "                    #climbing up the leading edge of the echo to get the index of the halfway point (j):\n",
    "                    while sim_interpolation[step_index]<(sim_interpolation[sim_interp_left_base]+sim_interpolation[sim_interp_peak_index])/2:\n",
    "                        step_index = step_index + 1\n",
    "                    sim_interp_leading_edge_halfway_up_index = step_index\n",
    "                    \n",
    "                    sim_gauss_interp_leading_edge_halfway_up_shift = -(sim_interp_leading_edge_halfway_up_index-gauss_interp_leading_edge_halfway_up_index)\n",
    "                    \n",
    "                    arr_sim_interp = []\n",
    "                    #lining up the simulated echo's halfway up point with the abstract gaussian's halway up the leading edge point: \n",
    "                    for a in range(len(gauss_interpolation)):\n",
    "                        try:\n",
    "                            #So that I dont accidentally start plotting the -10th, -9th index etc:\n",
    "                            if a-int(sim_gauss_interp_leading_edge_halfway_up_shift)>=0:\n",
    "                                arr_sim_interp.append(sim_interpolation[a-int(sim_gauss_interp_leading_edge_halfway_up_shift)])\n",
    "                            else:\n",
    "                                arr_sim_interp.append(0)\n",
    "                        except:\n",
    "                            arr_sim_interp.append(0)\n",
    "                    sim_uninterp = [arr_sim_interp[b] for b in range(len(arr_sim_interp)) if b%interpolation_factor==0]\n",
    "                    \"\"\" ending new stuff\"\"\"\n",
    "                    #appending the leading edge to the feature_arr, as well as the whole echo after it (so that the leading edge has more of an effect on the classification):\n",
    "                    feature_arr.append(np.append(sim_uninterp[halfway_up_uninterp_index-10:halfway_up_uninterp_index+10],sim_uninterp))\n",
    "                    #appending echo parameters to a label array (for the classification)\n",
    "                    label_arr.append(str(sim_echo_params))\n",
    "                    \n",
    "    \n",
    "    for i in range(len(sim_echoes_3[:][:][:][:])): #snow depth{s} (h_s)\n",
    "        for j in range(len(sim_echoes_3[0][:][:][:])): #l_surf{s}\n",
    "            for k in range(len(sim_echoes_3[0][0][:][:])): #sigma_si{s}\n",
    "                for l in range(len(sim_echoes_3[0][0][0][:])): #sigma_surf{s}\n",
    "                    \n",
    "                    \"\"\" Get rid of the %2 if time_sampling_factor = 1\"\"\"\n",
    "                    simulated_echo = [sim_echoes_3[i][j][k][l][m][0] for m in range(len(sim_echoes_3[i][j][k][l])) if m%2==0 ]\n",
    "                    sim_echo_params = [sim_params_3[i][j][k][l][0][n] for n in range(len(sim_params_3[i][j][k][l][0]))]\n",
    "                    simulated_echo_area = trapz(simulated_echo, dx = 1) \n",
    "                    norm_sim_echo = [x/simulated_echo_area for x in simulated_echo]\n",
    "                    \n",
    "                    sim_xnew = np.linspace(0, len(norm_sim_echo)-1, num=(len(norm_sim_echo)*interpolation_factor), endpoint=True)\n",
    "                    sim_interpolator = interp1d((range(len(norm_sim_echo))), norm_sim_echo, kind='cubic')\n",
    "                    sim_interpolation = sim_interpolator(sim_xnew)\n",
    "                    sim_interp_peak_index = np.argmax(sim_interpolation)\n",
    "                    sim_interp_left_base = scipy.signal.peak_prominences(sim_interpolation, [sim_interp_peak_index])[1][0] #index of the left hand side base of the peak\n",
    "            \n",
    "                    \"\"\"new stuff added – trying to align to the halway up point of the leading edges instead of the centroid of the leading edge\"\"\"\n",
    "                    step_index = sim_interp_left_base\n",
    "                    #climbing up the leading edge of the echo to get the index of the halfway point (j):\n",
    "                    while sim_interpolation[step_index]<(sim_interpolation[sim_interp_left_base]+sim_interpolation[sim_interp_peak_index])/2:\n",
    "                        step_index = step_index + 1\n",
    "                    sim_interp_leading_edge_halfway_up_index = step_index\n",
    "                    \n",
    "                    sim_gauss_interp_leading_edge_halfway_up_shift = -(sim_interp_leading_edge_halfway_up_index-gauss_interp_leading_edge_halfway_up_index)\n",
    "                    \n",
    "                    arr_sim_interp = []\n",
    "                    #lining up the simulated echo's halfway up point with the abstract gaussian's halway up the leading edge point: \n",
    "                    for a in range(len(gauss_interpolation)):\n",
    "                        try:\n",
    "                            #So that I dont accidentally start plotting the -10th, -9th index etc:\n",
    "                            if a-int(sim_gauss_interp_leading_edge_halfway_up_shift)>=0:\n",
    "                                arr_sim_interp.append(sim_interpolation[a-int(sim_gauss_interp_leading_edge_halfway_up_shift)])\n",
    "                            else:\n",
    "                                arr_sim_interp.append(0)\n",
    "                        except:\n",
    "                            arr_sim_interp.append(0)\n",
    "                    sim_uninterp = [arr_sim_interp[b] for b in range(len(arr_sim_interp)) if b%interpolation_factor==0]\n",
    "                    \"\"\" ending new stuff\"\"\"\n",
    "                    \n",
    "                    #appending the leading edge to the feature_arr, as well as the whole echo after it (so that the leading edge has more of an effect on the classification):\n",
    "                    feature_arr.append(np.append(sim_uninterp[halfway_up_uninterp_index-10:halfway_up_uninterp_index+10],sim_uninterp))\n",
    "                    #appending echo parameters to a label array (for the classification)\n",
    "                    label_arr.append(str(sim_echo_params))\n",
    "                    \n",
    "    return np.array(feature_arr),np.array(label_arr) \n",
    "feature_arr,label_arr = extractNL() #for features for both the SVC and neural network, labels for the SVC and for labels for the neural network\n",
    "\n"
   ]
  },
  {
   "cell_type": "code",
   "execution_count": 5,
   "metadata": {},
   "outputs": [
    {
     "data": {
      "text/plain": [
       "SVC(gamma='auto')"
      ]
     },
     "execution_count": 5,
     "metadata": {},
     "output_type": "execute_result"
    }
   ],
   "source": [
    "#making the parameter labels strings so that the SVC can interpret them\n",
    "label_arr = np.array(label_arr, dtype = 'str')\n",
    "clfL = SVC(gamma='auto') #creating the lead suppport vector classification\n",
    "clfL.fit(feature_arr, label_arr) #training the lead SVC using the simulated echoes and their corresponding parameters"
   ]
  },
  {
   "cell_type": "markdown",
   "metadata": {},
   "source": [
    "# Evaluating Parameters of a CryoSat-2 Waveform"
   ]
  },
  {
   "cell_type": "code",
   "execution_count": 23,
   "metadata": {},
   "outputs": [
    {
     "name": "stdout",
     "output_type": "stream",
     "text": [
      "There are 127 points in this waveform.\n",
      "len(obs_interpolation) 12700\n",
      "obs_interp_peak_index 5161\n",
      "obs_interp_left_base 61\n"
     ]
    }
   ],
   "source": [
    "waveform_number = 1000 #pick between 0 and 8539\n",
    "\n",
    "#initialising arrays for the different parts of the CryoSat-2 waveform file\n",
    "source_packet_ID = []\n",
    "block_no = []\n",
    "not_used = []\n",
    "lat = [] #latitude\n",
    "lon = [] #longitude\n",
    "waveform_data = []\n",
    "\n",
    "#extracting different parts of Cryosat-2 waveform file\n",
    "for row in waveform:\n",
    "    source_packet_ID.append(row[0])\n",
    "    block_no.append(row[1])\n",
    "    not_used.append(row[2])\n",
    "    lat.append(row[3])\n",
    "    lon.append(row[4])\n",
    "    waveform_data.append(row[5:-1])\n",
    "\n",
    "\n",
    "print(\"There are\",len(waveform_data[waveform_number]), \"points in this waveform.\")\n",
    "#calculating area under waveform:\n",
    "waveform_data_area = simps(waveform_data[waveform_number], dx=1)\n",
    "#normalising waveform data:\n",
    "norm_waveform_data = [x/waveform_data_area for x in waveform_data[waveform_number]]\n",
    "obs_xnew = np.linspace(0, len(norm_waveform_data)-1, num=(len(norm_waveform_data)*interpolation_factor), endpoint=True)\n",
    "obs_interpolator = interp1d((range(len(norm_waveform_data))), norm_waveform_data, kind='cubic')\n",
    "obs_interpolation = obs_interpolator(obs_xnew)\n",
    "print(\"len(obs_interpolation)\", len(obs_interpolation))\n",
    "obs_interp_peak_index = np.argmax(obs_interpolation)\n",
    "print(\"obs_interp_peak_index\", obs_interp_peak_index)\n",
    "obs_interp_left_base = scipy.signal.peak_prominences(obs_interpolation, [obs_interp_peak_index], wlen=300*interpolation_factor)[1][0] #index of the left hand side base of the peak\n",
    "print(\"obs_interp_left_base\",obs_interp_left_base)\n",
    "# print(\"obs_interp_left_base\",obs_interp_left_base)\n",
    "\n",
    "step_index = obs_interp_left_base\n",
    "#climbing up the leading edge of the echo to get the index of the halfway point (j):\n",
    "while obs_interpolation[step_index]<(obs_interpolation[obs_interp_left_base]+obs_interpolation[obs_interp_peak_index])/2:\n",
    "    step_index = step_index + 1\n",
    "obs_interp_leading_edge_halfway_up_index = step_index\n",
    "\n",
    "obs_gauss_interp_leading_edge_halfway_up_shift = -(obs_interp_leading_edge_halfway_up_index-gauss_interp_leading_edge_halfway_up_index)\n",
    "arr_obs_interp = []\n",
    "#lining up the observed echo's halfway up point with the abstract gaussian's halway up the leading edge point: \n",
    "for a in range(len(gauss_interpolation)):\n",
    "    try:\n",
    "        #So that I dont accidentally start plotting the -10th, -9th index etc:\n",
    "        if a-int(obs_gauss_interp_leading_edge_halfway_up_shift)>=0:\n",
    "            arr_obs_interp.append(obs_interpolation[a-int(obs_gauss_interp_leading_edge_halfway_up_shift)])\n",
    "        else:\n",
    "            arr_obs_interp.append(0)\n",
    "    except:\n",
    "        arr_obs_interp.append(0)\n",
    "obs_uninterp = [arr_obs_interp[b] for b in range(len(arr_obs_interp)) if b%interpolation_factor==0]\n",
    "\n",
    "\n"
   ]
  },
  {
   "cell_type": "code",
   "execution_count": 24,
   "metadata": {},
   "outputs": [
    {
     "name": "stdout",
     "output_type": "stream",
     "text": [
      "SNOW PREDICTION:  [0.0, 6.0, 0.002, 0.3]\n"
     ]
    }
   ],
   "source": [
    "#predicting the parameters of the Cryosat-2 echo (snow_depth, l_surf, sigma_si, sigma_surf)\n",
    "prediction = np.asarray(clfL.predict([np.append(obs_uninterp[halfway_up_uninterp_index-10:halfway_up_uninterp_index+10],obs_uninterp)])[0])\n",
    "print(\"SNOW PREDICTION: \",prediction)"
   ]
  },
  {
   "cell_type": "code",
   "execution_count": 25,
   "metadata": {},
   "outputs": [
    {
     "name": "stdout",
     "output_type": "stream",
     "text": [
      "Echo number:  490\n",
      "peak indices:  [1562]\n",
      "1562\n",
      "Snow-ice interface threshold_fraction:  0.5271177060664174\n"
     ]
    },
    {
     "data": {
      "image/png": "[encoded data removed]",
      "text/plain": [
       "<Figure size 432x288 with 1 Axes>"
      ]
     },
     "metadata": {
      "needs_background": "light"
     },
     "output_type": "display_data"
    }
   ],
   "source": [
    "\"\"\"Figuring out which one of the simulated echoes the Cryosat-2 echo matched\"\"\"\n",
    "counter = 0\n",
    "for i in range(len(sim_echoes[:][:][:][:])): #snow depth{s} (h_s)\n",
    "    for j in range(len(sim_echoes[0][:][:][:])): #l_surf{s}\n",
    "        for k in range(len(sim_echoes[0][0][:][:])): #sigma_si{s}\n",
    "            for l in range(len(sim_echoes[0][0][0][:])): #sigma_surf{s}\n",
    "                sim_echo_params = [sim_params[i][j][k][l][0][n] for n in range(len(sim_params[i][j][k][l][0]))]\n",
    "                if str(sim_echo_params) == prediction:\n",
    "                    print(\"Echo number: \",counter)\n",
    "                    simulated_echo_number = counter\n",
    "                    simulated_echo = [sim_echoes[i][j][k][l][m][0] for m in range(len(sim_echoes[i][j][k][l])) if m%2==0 ]\n",
    "                    sim_echo_params = [sim_params[i][j][k][l][0][n] for n in range(len(sim_params[i][j][k][l][0]))]\n",
    "                    simulated_echo_area = simps(simulated_echo, dx = 1) \n",
    "                    norm_sim_echo = [x/simulated_echo_area for x in simulated_echo]\n",
    "                    \n",
    "                    sim_xnew = np.linspace(0, len(norm_sim_echo)-1, num=(len(norm_sim_echo)*interpolation_factor), endpoint=True)\n",
    "                    sim_interpolator = interp1d((range(len(norm_sim_echo))), norm_sim_echo, kind='cubic')\n",
    "                    sim_interpolation = sim_interpolator(sim_xnew)\n",
    "                    plt.title(\"Simulated Echo\", fontsize = 14)\n",
    "                    plt.ylabel(\"Normalised Power\", fontsize = 14)\n",
    "                    plt.xticks([0,1000,2000,3000,4000,5000,6000,7000], [0,10,20,30,40,50,60,70])\n",
    "                    plt.xlabel(\"range bin number\", fontsize =14)\n",
    "                    plt.plot(sim_interpolation)\n",
    "                    #mean snow-ice interface range bin index accounting for oversampling factor and interpolation factor:\n",
    "                    mean_snow_ice_interface_surface_index = list(fasttimes_1[0]).index(0)/2*interpolation_factor\n",
    "\n",
    "                    major_peak_index = np.argmax(sim_interpolation) #finding the index of the largest peak in the echo\n",
    "#                     print(\"sim_interp_peak_index\",major_peak_index)\n",
    "                    peak_indices = signal.find_peaks(sim_interpolation, width = 150, height = 0.04)[0] #finding all the indices of all the peaks in the echo\n",
    "                    print(\"peak indices: \",peak_indices)\n",
    "                    print(np.argmax(sim_interpolation))\n",
    "                    #finding the peak-to-trough depth of the largest (major) peak in the echo:\n",
    "                    max_peak_depth = signal.peak_prominences(sim_interpolation,peak_indices)[0][list(peak_indices).index(major_peak_index)]\n",
    "                    peak_threshold = sim_interpolation[int(mean_snow_ice_interface_surface_index)]\n",
    "\n",
    "                    mean_snow_ice_interface_threshold_fraction = 1 - (np.max(sim_interpolation) - peak_threshold)/max_peak_depth\n",
    "                    print(\"Snow-ice interface threshold_fraction: \",mean_snow_ice_interface_threshold_fraction)\n",
    "\n",
    "                counter+=1\n",
    "\n",
    "\n",
    "\n",
    "for i in range(len(sim_echoes_2[:][:][:][:])): #snow depth{s} (h_s)\n",
    "    for j in range(len(sim_echoes_2[0][:][:][:])): #l_surf{s}\n",
    "        for k in range(len(sim_echoes_2[0][0][:][:])): #sigma_si{s}\n",
    "            for l in range(len(sim_echoes_2[0][0][0][:])): #sigma_surf{s}\n",
    "                sim_echo_params = [sim_params_2[i][j][k][l][0][n] for n in range(len(sim_params_2[i][j][k][l][0]))]\n",
    "                #print(i,j,k,sim_echo_params,prediction)\n",
    "                if str(sim_echo_params) == prediction:\n",
    "                    print(\"Echo number2: \",counter)\n",
    "                    simulated_echo_number = counter\n",
    "                    simulated_echo = [sim_echoes_2[i][j][k][l][m][0] for m in range(len(sim_echoes_2[i][j][k][l])) if m%2==0 ]\n",
    "                    sim_echo_params = [sim_params_2[i][j][k][l][0][n] for n in range(len(sim_params_2[i][j][k][l][0]))]\n",
    "                    simulated_echo_area = simps(simulated_echo, dx = 1) \n",
    "                    norm_sim_echo = [x/simulated_echo_area for x in simulated_echo]\n",
    "                    \n",
    "                    sim_xnew = np.linspace(0, len(norm_sim_echo)-1, num=(len(norm_sim_echo)*interpolation_factor), endpoint=True)\n",
    "                    sim_interpolator = interp1d((range(len(norm_sim_echo))), norm_sim_echo, kind='cubic')\n",
    "                    sim_interpolation = sim_interpolator(sim_xnew)\n",
    "                    plt.title(\"Simulated Echo\", fontsize = 14)\n",
    "                    plt.ylabel(\"Normalised Power\", fontsize = 14)\n",
    "                    plt.xticks([0,1000,2000,3000,4000,5000,6000,7000], [0,10,20,30,40,50,60,70])\n",
    "                    plt.xlabel(\"range bin number\", fontsize =14)\n",
    "                    plt.plot(sim_interpolation)\n",
    "                    #mean snow-ice interface range bin index accounting for oversampling factor and interpolation factor:\n",
    "                    mean_snow_ice_interface_surface_index = list(fasttimes_2[0]).index(0)/2*interpolation_factor\n",
    "\n",
    "                    major_peak_index = np.argmax(sim_interpolation) #finding the index of the largest peak in the echo\n",
    "#                     print(\"sim_interp_peak_index\",major_peak_index)\n",
    "                    peak_indices = signal.find_peaks(sim_interpolation, width = 150, height = 0.04)[0] #finding all the indices of all the peaks in the echo\n",
    "                    print(\"peak indices: \",peak_indices)\n",
    "                    print(np.argmax(sim_interpolation))\n",
    "                    #finding the peak-to-trough depth of the largest (major) peak in the echo:\n",
    "                    max_peak_depth = signal.peak_prominences(sim_interpolation,peak_indices)[0][list(peak_indices).index(major_peak_index)]\n",
    "                    peak_threshold = sim_interpolation[int(mean_snow_ice_interface_surface_index)]\n",
    "\n",
    "                    mean_snow_ice_interface_threshold_fraction = 1 - (np.max(sim_interpolation) - peak_threshold)/max_peak_depth\n",
    "                    print(\"Snow-ice interface threshold_fraction: \",mean_snow_ice_interface_threshold_fraction)\n",
    "\n",
    "                counter+=1\n",
    "        \n",
    "for i in range(len(sim_echoes_3[:][:][:][:])): #snow depth{s} (h_s)\n",
    "    for j in range(len(sim_echoes_3[0][:][:][:])): #l_surf{s}\n",
    "        for k in range(len(sim_echoes_3[0][0][:][:])): #sigma_si{s}\n",
    "            for l in range(len(sim_echoes_3[0][0][0][:])): #sigma_surf{s}\n",
    "                sim_echo_params = [sim_params_3[i][j][k][l][0][n] for n in range(len(sim_params_3[i][j][k][l][0]))]\n",
    "                #print(i,j,k,sim_echo_params,prediction)\n",
    "                if str(sim_echo_params) == prediction:\n",
    "                    print(\"Echo number3: \",counter)\n",
    "                    simulated_echo_number = counter\n",
    "                    simulated_echo = [sim_echoes_3[i][j][k][l][m][0] for m in range(len(sim_echoes_3[i][j][k][l])) if m%2==0 ]\n",
    "                    sim_echo_params = [sim_params_3[i][j][k][l][0][n] for n in range(len(sim_params_3[i][j][k][l][0]))]\n",
    "                    simulated_echo_area = simps(simulated_echo, dx = 1) \n",
    "                    norm_sim_echo = [x/simulated_echo_area for x in simulated_echo]\n",
    "                    \n",
    "                    sim_xnew = np.linspace(0, len(norm_sim_echo)-1, num=(len(norm_sim_echo)*interpolation_factor), endpoint=True)\n",
    "                    sim_interpolator = interp1d((range(len(norm_sim_echo))), norm_sim_echo, kind='cubic')\n",
    "                    sim_interpolation = sim_interpolator(sim_xnew)\n",
    "                    plt.title(\"Simulated Echo\", fontsize = 14)\n",
    "                    plt.ylabel(\"Normalised Power\", fontsize = 14)\n",
    "                    plt.xticks([0,1000,2000,3000,4000,5000,6000,7000], [0,10,20,30,40,50,60,70])\n",
    "                    plt.xlabel(\"range bin number\", fontsize =14)\n",
    "                    plt.plot(sim_interpolation)\n",
    "                    #mean snow-ice interface range bin index accounting for oversampling factor and interpolation factor:\n",
    "                    mean_snow_ice_interface_surface_index = list(fasttimes_3[0]).index(0)/2*interpolation_factor\n",
    "\n",
    "                    major_peak_index = np.argmax(sim_interpolation) #finding the index of the largest peak in the echo\n",
    "#                     print(\"sim_interp_peak_index\",major_peak_index)\n",
    "                    peak_indices = signal.find_peaks(sim_interpolation, width = 150, height = 0.04)[0] #finding all the indices of all the peaks in the echo\n",
    "                    print(\"peak indices: \",peak_indices)\n",
    "                    print(np.argmax(sim_interpolation))\n",
    "                    #finding the peak-to-trough depth of the largest (major) peak in the echo:\n",
    "                    max_peak_depth = signal.peak_prominences(sim_interpolation,peak_indices)[0][list(peak_indices).index(major_peak_index)]\n",
    "                    peak_threshold = sim_interpolation[int(mean_snow_ice_interface_surface_index)]\n",
    "\n",
    "                    mean_snow_ice_interface_threshold_fraction = 1 - (np.max(sim_interpolation) - peak_threshold)/max_peak_depth\n",
    "                    print(\"Snow-ice interface threshold_fraction: \",mean_snow_ice_interface_threshold_fraction)\n",
    "\n",
    "                counter+=1"
   ]
  },
  {
   "cell_type": "code",
   "execution_count": 26,
   "metadata": {},
   "outputs": [
    {
     "data": {
      "image/png": "[encoded data removed]",
      "text/plain": [
       "<Figure size 432x288 with 1 Axes>"
      ]
     },
     "metadata": {
      "needs_background": "light"
     },
     "output_type": "display_data"
    }
   ],
   "source": [
    "\"\"\"Plotting the Cryosat-2 echo and corresponding simulated echo\"\"\"\n",
    "plt.title('Aligning CryoSat-2 echoes with Simulated Echoes', fontsize = 15)\n",
    "plt.plot(range(len(obs_uninterp)), obs_uninterp, 'g--', label='random Cryosat-2 echo')\n",
    "plt.plot(range(len(feature_arr[simulated_echo_number][20:])), feature_arr[simulated_echo_number][20:], 'r--',label = 'corresponding simulated echo')\n",
    "# plt.plot(range(len(gaussian)), gaussian, label = 'abstract gaussian both are aligned to')\n",
    "plt.xlabel('range bin number', fontsize = 15)\n",
    "plt.ylabel('Normalised power', fontsize = 15)\n",
    "plt.legend(loc = 'upper right')\n",
    "plt.savefig('RandomCryoSat2EchoNL.png', dpi= 200)"
   ]
  },
  {
   "cell_type": "code",
   "execution_count": 27,
   "metadata": {},
   "outputs": [
    {
     "name": "stdout",
     "output_type": "stream",
     "text": [
      "Threshold_fraction:  0.5271177060664174\n"
     ]
    }
   ],
   "source": [
    "print(\"Threshold_fraction: \",mean_snow_ice_interface_threshold_fraction)"
   ]
  },
  {
   "cell_type": "code",
   "execution_count": null,
   "metadata": {},
   "outputs": [],
   "source": []
  },
  {
   "cell_type": "code",
   "execution_count": null,
   "metadata": {},
   "outputs": [],
   "source": []
  }
 ],
 "metadata": {
  "kernelspec": {
   "display_name": "Python 3",
   "language": "python",
   "name": "python3"
  },
  "language_info": {
   "codemirror_mode": {
    "name": "ipython",
    "version": 3
   },
   "file_extension": ".py",
   "mimetype": "text/x-python",
   "name": "python",
   "nbconvert_exporter": "python",
   "pygments_lexer": "ipython3",
   "version": "3.8.5"
  }
 },
 "nbformat": 4,
 "nbformat_minor": 4
}
