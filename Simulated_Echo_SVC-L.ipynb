{
 "cells": [
  {
   "cell_type": "markdown",
   "metadata": {},
   "source": [
    "# Simulated_Echo_SVC-2020-L\n",
    "## Claude de Rijke-Thomas\n",
    "### 16th May 2020"
   ]
  },
  {
   "cell_type": "markdown",
   "metadata": {},
   "source": [
    "Open in tensorflowenv: source activate tensorflowenv"
   ]
  },
  {
   "cell_type": "code",
   "execution_count": 1,
   "metadata": {},
   "outputs": [],
   "source": [
    "import scipy.io\n",
    "import numpy as np\n",
    "from scipy.integrate import simps, trapz\n",
    "import matplotlib.pyplot as plt\n",
    "from sklearn.svm import SVC\n",
    "from numba import jit, prange\n",
    "from scipy import signal\n",
    "from scipy.interpolate import interp1d\n",
    "from scipy import signal"
   ]
  },
  {
   "cell_type": "markdown",
   "metadata": {},
   "source": [
    "# The Lead Part (Including Lead SVC)"
   ]
  },
  {
   "cell_type": "markdown",
   "metadata": {},
   "source": [
    "alphabetically:\n",
    "$$D\\_off = [0, 200, 400, 600, 800, 1000]; % distance off nadir (default = 0 m)$$\n",
    "$$h\\_s = [0, 0.05, 0.10, 0.15, 0.20, 0.25, 0.30, 0.35]; % snow depth, m$$\n",
    "$$L\\_ang = [0:10:90]; %lead angle from the across-track direction (between 0\\u00B0 and 90\\u00B0)$$\n",
    "$$L\\_w = [0:50:300]; % lead width (default = 100 m)$$"
   ]
  },
  {
   "cell_type": "code",
   "execution_count": 16,
   "metadata": {},
   "outputs": [],
   "source": [
    "waveform = np.loadtxt('/Users/claudederijkethomas/Desktop/Ice/Proj/CS_OFFL_SIR_SAR_1B_20140515T080546_20140515T081235_B001.wfm')\n",
    "\n"
   ]
  },
  {
   "cell_type": "code",
   "execution_count": 17,
   "metadata": {},
   "outputs": [],
   "source": [
    "#Lead echo simulations (first part of three, corresponding to snow depths of 0 to 15cm):\n",
    "LP1 = scipy.io.loadmat('/Users/claudederijkethomas/Desktop/Ice/Proj/FEM_Sim_LP1.mat')#h_s = [0 0.05 0.10 0.15];\n",
    "LP2 = scipy.io.loadmat('/Users/claudederijkethomas/Desktop/Ice/Proj/FEM_Sim_LP2.mat')#h_s = [0.20 0.25 0.30 0.35]\n",
    "\n",
    "#added arrays containing values of the parameters iterated over (to be used as SVC labels):\n",
    "sim_params_1 = LP1['parameters_lookup']\n",
    "sim_params_2 = LP2['parameters_lookup']\n",
    "\n",
    "\n",
    "#simulated lead-containing waveforms:\n",
    "sim_echoes_1 = LP1['P_t_ml_range']\n",
    "sim_echoes_2 = LP2['P_t_ml_range']\n",
    "\n",
    "\n",
    "fasttimes_1= LP1['t']\n",
    "fasttimes_2= LP2['t']\n"
   ]
  },
  {
   "cell_type": "code",
   "execution_count": 18,
   "metadata": {},
   "outputs": [
    {
     "name": "stdout",
     "output_type": "stream",
     "text": [
      "gauss_interp_left_base 0\n",
      "gauss_interp_left_base 1847\n",
      "gauss_interp_leading_edge_centroid_index 3133.5577624840066\n",
      "10000\n"
     ]
    }
   ],
   "source": [
    "interpolation_factor = 100\n",
    "gaussian = [(1/(5*np.sqrt(2*np.pi)))*np.exp(-((x - 35)**2)/(2*5**2)) for x in range(100)]\n",
    "gauss_xnew = np.linspace(0, len(gaussian)-1, num=(len(gaussian)*interpolation_factor), endpoint=True)\n",
    "gauss_interpolator = interp1d((range(len(gaussian))), gaussian, kind='cubic')\n",
    "gauss_interpolation = gauss_interpolator(gauss_xnew)\n",
    "gauss_interp_peak_index = np.argmax(gauss_interpolation) #the peak index of the interpolated gaussian\n",
    "gauss_interp_left_base = scipy.signal.peak_prominences(gauss_interpolation, [gauss_interp_peak_index], wlen=300*interpolation_factor)[1][0] #index of the left hand side base of the peak\n",
    "print(\"gauss_interp_left_base\",gauss_interp_left_base)\n",
    "gauss_interp_left_base = np.abs(np.array(gauss_interpolation[:gauss_interp_peak_index])-0.0003).argmin()\n",
    "print(\"gauss_interp_left_base\",gauss_interp_left_base)\n",
    "#the leading edge centroid of the interpolated gaussian:\n",
    "gauss_interp_leading_edge_centroid_index = sum(np.array(gauss_interpolation[gauss_interp_left_base:gauss_interp_peak_index+1])*np.array(range(gauss_interp_left_base, gauss_interp_peak_index+1,1)))/sum(np.array(gauss_interpolation[gauss_interp_left_base:gauss_interp_peak_index+1]))\n",
    "print(\"gauss_interp_leading_edge_centroid_index\",gauss_interp_leading_edge_centroid_index)\n",
    "print(len(gauss_interpolation))"
   ]
  },
  {
   "cell_type": "code",
   "execution_count": 19,
   "metadata": {},
   "outputs": [
    {
     "data": {
      "image/png": "[encoded data removed]",
      "text/plain": [
       "<Figure size 432x288 with 1 Axes>"
      ]
     },
     "metadata": {
      "needs_background": "light"
     },
     "output_type": "display_data"
    }
   ],
   "source": [
    "def extractL():\n",
    "    \"\"\"extracting (and preprocessing) the simulated echo arrays into a format that can be understood by the SVC.\"\"\"\n",
    "    counter = 0\n",
    "    graph_plot_counter = 0\n",
    "    data_arr = []\n",
    "    label_arr = []\n",
    "    int_label_arr = []\n",
    "    for i in range(len(sim_echoes_1[:][:][:][:])): \n",
    "        for j in range(len(sim_echoes_1[0][:][:][:])): \n",
    "            for k in range(len(sim_echoes_1[0][0][:][:])): \n",
    "                for l in range(len(sim_echoes_1[0][0][0][:])):\n",
    "                    \n",
    "                    \"\"\" Get rid of the %2 if time_sampling_factor = 1\"\"\"\n",
    "                    simulated_echo = [sim_echoes_1[i][j][k][l][m][0] for m in range(len(sim_echoes_1[i][j][k][l])) if m%2==0 ]\n",
    "                    sim_echo_params = [sim_params_1[i][j][k][l][0][n] for n in range(len(sim_params_1[i][j][k][l][0]))]\n",
    "                    simulated_echo_area = trapz(simulated_echo, dx = 1) \n",
    "                    norm_sim_echo = [x/simulated_echo_area for x in simulated_echo]\n",
    "                    \n",
    "                    sim_xnew = np.linspace(0, len(norm_sim_echo)-1, num=(len(norm_sim_echo)*interpolation_factor), endpoint=True)\n",
    "                    sim_interpolator = interp1d((range(len(norm_sim_echo))), norm_sim_echo, kind='cubic')\n",
    "                    sim_interpolation = sim_interpolator(sim_xnew)\n",
    "                    \n",
    "                    sim_interp_peak_index = np.argmax(sim_interpolation)\n",
    "                    sim_interp_left_base = scipy.signal.peak_prominences(sim_interpolation, [sim_interp_peak_index])[1][0] #index of the left hand side base of the peak\n",
    "                    #the leading edge centroid of the interpolated simulated CryoSat-2 waveform:\n",
    "                    sim_interp_leading_edge_centroid_index = sum(np.array(sim_interpolation[sim_interp_left_base:sim_interp_peak_index+1])*np.array(range(sim_interp_left_base, sim_interp_peak_index+1,1)))/sum(np.array(sim_interpolation[sim_interp_left_base:sim_interp_peak_index+1]))\n",
    "                    sim_gauss_interp_leading_edge_centroid_shift = -(sim_interp_leading_edge_centroid_index-gauss_interp_leading_edge_centroid_index)\n",
    "\n",
    "                    arr_sim_interp = []\n",
    "                    #lining up the simulated echo with the abstract gaussian's leading edge centroid (SVC preprocessing step):\n",
    "                    for a in range(len(gauss_interpolation)):\n",
    "                        try:\n",
    "                            #So that I dont accidentally start plotting the -10th, -9th index etc:\n",
    "                            if a-int(sim_gauss_interp_leading_edge_centroid_shift)>=0:\n",
    "                                arr_sim_interp.append(sim_interpolation[a-int(sim_gauss_interp_leading_edge_centroid_shift)])\n",
    "                            else:\n",
    "                                arr_sim_interp.append(0)\n",
    "                        except:\n",
    "                            arr_sim_interp.append(0)\n",
    "                    \n",
    "                    arr_sim_uninterp = [arr_sim_interp[b] for b in range(len(arr_sim_interp)) if b%interpolation_factor==0]\n",
    "                    if graph_plot_counter<4: \n",
    "                        plt.plot(arr_sim_uninterp)\n",
    "                        graph_plot_counter+=1\n",
    "                    data_arr.append(arr_sim_uninterp)\n",
    "                    #appending echo parameters to a label array (for the classification)\n",
    "                    label_arr.append(str(sim_echo_params))\n",
    "                    int_label_arr.append(counter)\n",
    "                    counter+=1\n",
    "    for i in range(len(sim_echoes_2[:][:][:][:])): \n",
    "        for j in range(len(sim_echoes_2[0][:][:][:])): \n",
    "            for k in range(len(sim_echoes_2[0][0][:][:])): \n",
    "                for l in range(len(sim_echoes_2[0][0][0][:])):\n",
    "                    \n",
    "                    \"\"\" Get rid of the %2 if time_sampling_factor = 1\"\"\"\n",
    "                    simulated_echo = [sim_echoes_2[i][j][k][l][m][0] for m in range(len(sim_echoes_2[i][j][k][l])) if m%2==0 ]\n",
    "                    sim_echo_params = [sim_params_2[i][j][k][l][0][n] for n in range(len(sim_params_2[i][j][k][l][0]))]\n",
    "                    simulated_echo_area = trapz(simulated_echo, dx = 1) \n",
    "                    norm_sim_echo = [x/simulated_echo_area for x in simulated_echo]\n",
    "                    \n",
    "                    sim_xnew = np.linspace(0, len(norm_sim_echo)-1, num=(len(norm_sim_echo)*interpolation_factor), endpoint=True)\n",
    "                    sim_interpolator = interp1d((range(len(norm_sim_echo))), norm_sim_echo, kind='cubic')\n",
    "                    sim_interpolation = sim_interpolator(sim_xnew)\n",
    "                    \n",
    "                    sim_interp_peak_index = np.argmax(sim_interpolation)\n",
    "                    sim_interp_left_base = scipy.signal.peak_prominences(sim_interpolation, [sim_interp_peak_index])[1][0] #index of the left hand side base of the peak\n",
    "                    #the leading edge centroid of the interpolated simulated CryoSat-2 waveform:\n",
    "                    sim_interp_leading_edge_centroid_index = sum(np.array(sim_interpolation[sim_interp_left_base:sim_interp_peak_index+1])*np.array(range(sim_interp_left_base, sim_interp_peak_index+1,1)))/sum(np.array(sim_interpolation[sim_interp_left_base:sim_interp_peak_index+1]))\n",
    "                    sim_gauss_interp_leading_edge_centroid_shift = -(sim_interp_leading_edge_centroid_index-gauss_interp_leading_edge_centroid_index)\n",
    "\n",
    "                    arr_sim_interp = []\n",
    "                    #lining up the simulated echo with the abstract gaussian's leading edge centroid (SVC preprocessing step):\n",
    "                    for a in range(len(gauss_interpolation)):\n",
    "                        try:\n",
    "                            #So that I dont accidentally start plotting the -10th, -9th index etc:\n",
    "                            if a-int(sim_gauss_interp_leading_edge_centroid_shift)>=0:\n",
    "                                arr_sim_interp.append(sim_interpolation[a-int(sim_gauss_interp_leading_edge_centroid_shift)])\n",
    "                            else:\n",
    "                                arr_sim_interp.append(0)\n",
    "                        except:\n",
    "                            arr_sim_interp.append(0)\n",
    "                    \n",
    "                    arr_sim_uninterp = [arr_sim_interp[b] for b in range(len(arr_sim_interp)) if b%interpolation_factor==0]\n",
    "                    if graph_plot_counter<4: \n",
    "                        plt.plot(arr_sim_uninterp)\n",
    "                        graph_plot_counter+=1\n",
    "                    data_arr.append(arr_sim_uninterp)\n",
    "                    #appending echo parameters to a label array (for the classification)\n",
    "                    label_arr.append(str(sim_echo_params))\n",
    "                    int_label_arr.append(counter)\n",
    "                    counter+=1\n",
    "\n",
    "    return np.array(data_arr), np.array(label_arr),np.array(int_label_arr)\n",
    "feature_arr,label_arr,int_label_arr = extractL() #for features for both the SVC and neural network, labels for the SVC and for labels for the neural network"
   ]
  },
  {
   "cell_type": "code",
   "execution_count": 6,
   "metadata": {},
   "outputs": [
    {
     "data": {
      "text/plain": [
       "SVC(C=1.0, cache_size=200, class_weight=None, coef0=0.0,\n",
       "    decision_function_shape='ovr', degree=3, gamma='auto', kernel='rbf',\n",
       "    max_iter=-1, probability=False, random_state=None, shrinking=True,\n",
       "    tol=0.001, verbose=False)"
      ]
     },
     "execution_count": 6,
     "metadata": {},
     "output_type": "execute_result"
    }
   ],
   "source": [
    "label_arr = np.array(label_arr, dtype = 'str')\n",
    "clfL = SVC(gamma='auto') #creating the lead suppport vector classification\n",
    "clfL.fit(feature_arr, label_arr) #training the lead SVC using the simulated echoes and their corresponding parameters"
   ]
  },
  {
   "cell_type": "code",
   "execution_count": 7,
   "metadata": {},
   "outputs": [],
   "source": [
    "# def proportion_correct_predictions():\n",
    "#     correct_counter = 0\n",
    "#     incorrect_counter = 0\n",
    "#     #removing the first 560 echoes (corresponding to D_off= 0m and 200m):\n",
    "#     for i in prange(280*2,np.shape(feature_arr)[0]):\n",
    "#         if i%10==0: #(evaluating every 10th echo to speed up compute time)\n",
    "#             #extracting an echo\n",
    "#             echo = feature_arr[i]\n",
    "#             # slightly modifying the echo (for subsequent denoising accuracy calculation)\n",
    "#             echo_mod = [np.random.normal(loc = echo[j], scale = echo[j]*0.025) for j in range(len(echo))]\n",
    "#             #checking if the modified echo is accurately predicted as the clean echo:\n",
    "#             if clfL.predict([echo])[0] == clfL.predict([echo_mod])[0]:\n",
    "#                 #counting the number of modified echoes correctly denoised:\n",
    "#                 correct_counter+=1\n",
    "#             else:\n",
    "#                 #counting the number of modified echoes incorrectly denoised:\n",
    "#                 incorrect_counter+=1\n",
    "#     #returning the proportion of correct predictions:\n",
    "#     return correct_counter/(incorrect_counter+correct_counter)\n",
    "# proportion_correct_predictions()"
   ]
  },
  {
   "cell_type": "markdown",
   "metadata": {},
   "source": [
    "# Evaluating Parameters of a CryoSat-2 Waveform"
   ]
  },
  {
   "cell_type": "code",
   "execution_count": 216,
   "metadata": {},
   "outputs": [
    {
     "name": "stdout",
     "output_type": "stream",
     "text": [
      "There are 127 points in this waveform.\n",
      "len(obs_interpolation) 12700\n",
      "obs_interp_peak_index 5048\n",
      "obs_interp_left_base 54\n",
      "obs_interp_leading_edge_centroid_index 4905.8737925224195\n",
      "obs_gauss_interp_leading_edge_centroid_shift -1772.316030038413\n"
     ]
    }
   ],
   "source": [
    "#Loading a CryoSat-2 echo from extracting_waveforms.ipynb file:\n",
    "# pickle_in = open(\"CryoSat2Waveform.pickle\", 'rb')\n",
    "waveform_number = 2400 #pick between 0 and 8539\n",
    "#bad ones are 1500 and 1700 and 1900 and 2400\n",
    "source_packet_ID = []\n",
    "block_no = []\n",
    "not_used = []\n",
    "lat = []\n",
    "lon = []\n",
    "waveform_data = []\n",
    "\n",
    "\n",
    "for row in waveform:\n",
    "    source_packet_ID.append(row[0])\n",
    "    block_no.append(row[1])\n",
    "    not_used.append(row[2])\n",
    "    lat.append(row[3])\n",
    "    lon.append(row[4])\n",
    "    waveform_data.append(row[5:-1])\n",
    "\n",
    "\n",
    "print(\"There are\",len(waveform_data[waveform_number]), \"points in this waveform.\")\n",
    "#calculating area under waveform:\n",
    "waveform_data_area = simps(waveform_data[waveform_number], dx=1)\n",
    "#normalising waveform data:\n",
    "norm_waveform_data = [x/waveform_data_area for x in waveform_data[waveform_number]]\n",
    "obs_xnew = np.linspace(0, len(norm_waveform_data)-1, num=(len(norm_waveform_data)*interpolation_factor), endpoint=True)\n",
    "obs_interpolator = interp1d((range(len(norm_waveform_data))), norm_waveform_data, kind='cubic')\n",
    "obs_interpolation = obs_interpolator(obs_xnew)\n",
    "print(\"len(obs_interpolation)\", len(obs_interpolation))\n",
    "obs_interp_peak_index = np.argmax(obs_interpolation)\n",
    "print(\"obs_interp_peak_index\", obs_interp_peak_index)\n",
    "obs_interp_left_base = scipy.signal.peak_prominences(obs_interpolation, [obs_interp_peak_index], wlen=300*interpolation_factor)[1][0] #index of the left hand side base of the peak\n",
    "print(\"obs_interp_left_base\",obs_interp_left_base)\n",
    "# obs_interp_left_base = np.abs(np.array(obs_interpolation[:obs_interp_peak_index])-0.0003).argmin()\n",
    "# print(\"obs_interp_left_base\",obs_interp_left_base)\n",
    "##the leading edge centroid of the interpolated observed CryoSat-2 waveform:\n",
    "obs_interp_leading_edge_centroid_index = sum(np.array(obs_interpolation[obs_interp_left_base:obs_interp_peak_index+1])*np.array(range(obs_interp_left_base, obs_interp_peak_index+1,1)))/sum(np.array(obs_interpolation[obs_interp_left_base:obs_interp_peak_index+1]))\n",
    "print(\"obs_interp_leading_edge_centroid_index\",obs_interp_leading_edge_centroid_index)\n",
    "obs_gauss_interp_leading_edge_centroid_shift = -(obs_interp_leading_edge_centroid_index-gauss_interp_leading_edge_centroid_index)\n",
    "print(\"obs_gauss_interp_leading_edge_centroid_shift\",obs_gauss_interp_leading_edge_centroid_shift)\n",
    "arr_obs_interp = []\n",
    "#Aligning the Cryosat-2 data with the echo\n",
    "for i in range(len(gauss_interpolation)):\n",
    "    try:\n",
    "        if i-int(obs_gauss_interp_leading_edge_centroid_shift)>=0:\n",
    "            arr_obs_interp.append(obs_interpolation[i-int(obs_gauss_interp_leading_edge_centroid_shift)])\n",
    "        else:\n",
    "            arr_obs_interp.append(0)\n",
    "    except:\n",
    "        arr_obs_interp.append(0)\n",
    "arr_obs_uninterp = [arr_obs_interp[b] for b in range(len(arr_obs_interp)) if b%interpolation_factor==0]"
   ]
  },
  {
   "cell_type": "code",
   "execution_count": 217,
   "metadata": {},
   "outputs": [
    {
     "name": "stdout",
     "output_type": "stream",
     "text": [
      "SNOW PREDICTION [distance off-nadir (m), lead angle (deg), lead width (m), snow depth (m)]:  [600.0, 50.0, 250.0, 0.25]\n"
     ]
    }
   ],
   "source": [
    "prediction = np.asarray(clfL.predict([arr_obs_uninterp])[0])\n",
    "print(\"SNOW PREDICTION [distance off-nadir (m), lead angle (deg), lead width (m), snow depth (m)]: \",prediction)\n",
    "#D_off, L_ang, L_w, h_s"
   ]
  },
  {
   "cell_type": "code",
   "execution_count": 220,
   "metadata": {},
   "outputs": [
    {
     "name": "stdout",
     "output_type": "stream",
     "text": [
      "Echo number:  2681\n",
      "This is a questionable threshold fraction but may be appropriate if a lead is present off-nadir\n",
      "Threshold_fraction:  0.06986510582596783\n"
     ]
    },
    {
     "data": {
      "image/png": "[encoded data removed]",
      "text/plain": [
       "<Figure size 432x288 with 1 Axes>"
      ]
     },
     "metadata": {
      "needs_background": "light"
     },
     "output_type": "display_data"
    }
   ],
   "source": [
    "counter = 0\n",
    "for i in range(len(sim_echoes_1[:][:][:][:])): \n",
    "    for j in range(len(sim_echoes_1[0][:][:][:])): \n",
    "        for k in range(len(sim_echoes_1[0][0][:][:])):\n",
    "            for l in range(len(sim_echoes_1[0][0][0][:])):\n",
    "                sim_echo_params = [sim_params_1[i][j][k][l][0][n] for n in range(len(sim_params_1[i][j][k][l][0]))]\n",
    "                if str(sim_echo_params) == prediction:\n",
    "                    print(\"Echo number: \",counter)\n",
    "                    simulated_echo_number = counter\n",
    "                    simulated_echo = [sim_echoes_1[i][j][k][l][m][0] for m in range(len(sim_echoes_1[i][j][k][l])) if m%2==0 ]\n",
    "                    sim_echo_params = [sim_params_1[i][j][k][l][0][n] for n in range(len(sim_params_1[i][j][k][l][0]))]\n",
    "                    simulated_echo_area = trapz(simulated_echo, dx = 1) \n",
    "                    norm_sim_echo = [x/simulated_echo_area for x in simulated_echo]\n",
    "                    \n",
    "                    sim_xnew = np.linspace(0, len(norm_sim_echo)-1, num=(len(norm_sim_echo)*interpolation_factor), endpoint=True)\n",
    "                    sim_interpolator = interp1d((range(len(norm_sim_echo))), norm_sim_echo, kind='cubic')\n",
    "                    sim_interpolation = sim_interpolator(sim_xnew)\n",
    "                    plt.plot(sim_interpolation)\n",
    "                    #mean scattering surface index accounting for oversampling factor and interpolation factor:\n",
    "                    mean_scattering_surface_index = list(fasttimes_1[0]).index(0)/2*interpolation_factor\n",
    "#                     print(\"mean_scattering_surface_index\",mean_scattering_surface_index) \n",
    "                    major_peak_index = np.argmax(sim_interpolation) #finding the index of the largest peak in the echo\n",
    "#                     print(\"sim_interp_peak_index\",major_peak_index)\n",
    "                    peak_indices = signal.find_peaks(sim_interpolation, width = 150, height = 0.04)[0] #finding all the indices of all the peaks in the echo\n",
    "                    peak_indices_cwt = signal.find_peaks_cwt(sim_interpolation, widths = np.arange(10, 50, 10))\n",
    "                    plt.scatter(peak_indices_cwt, sim_interpolation[peak_indices_cwt])\n",
    "#                     print(\"peak indices: \",peak_indices)\n",
    "#                     print(np.argmax(sim_interpolation))\n",
    "#                     print(\"peak_indices_cwt: \",peak_indices_cwt)\n",
    "                    filtered_cwt_distances = [np.argmax(sim_interpolation)-peak_indices_cwt[i] for i in range(len(peak_indices_cwt))\n",
    "                                              if 40<np.argmax(sim_interpolation)-peak_indices_cwt[i]<600]\n",
    "                    if len(filtered_cwt_distances)>0:\n",
    "#                         print(\"filetered_cwt_distances\",filtered_cwt_distances)\n",
    "                        print(\"This is a questionable threshold fraction but may be appropriate if a lead is present\")\n",
    "                    #finding the peak-to-trough depth of the largest (major) peak in the echo:\n",
    "                    max_peak_depth = signal.peak_prominences(sim_interpolation,peak_indices)[0][list(peak_indices).index(major_peak_index)]\n",
    "                    peak_threshold = sim_interpolation[int(mean_scattering_surface_index)]\n",
    "#                     print(\"max peak depth\",max_peak_depth)\n",
    "#                     print(\"peak threshold\", peak_threshold)\n",
    "                    mean_scattering_surface_threshold_fraction = 1 - (np.max(sim_interpolation) - peak_threshold)/max_peak_depth\n",
    "                    print(\"Threshold_fraction: \",mean_scattering_surface_threshold_fraction)\n",
    "\n",
    "                counter+=1\n",
    "for i in range(len(sim_echoes_2[:][:][:][:])): \n",
    "    for j in range(len(sim_echoes_2[0][:][:][:])): \n",
    "        for k in range(len(sim_echoes_2[0][0][:][:])):\n",
    "            for l in range(len(sim_echoes_2[0][0][0][:])):\n",
    "                sim_echo_params = [sim_params_2[i][j][k][l][0][n] for n in range(len(sim_params_2[i][j][k][l][0]))]\n",
    "                if str(sim_echo_params) == prediction:\n",
    "                    print(\"Echo number: \",counter)\n",
    "                    simulated_echo_number = counter\n",
    "                    simulated_echo = [sim_echoes_2[i][j][k][l][m][0] for m in range(len(sim_echoes_2[i][j][k][l])) if m%2==0 ]\n",
    "                    sim_echo_params = [sim_params_2[i][j][k][l][0][n] for n in range(len(sim_params_2[i][j][k][l][0]))]\n",
    "                    simulated_echo_area = trapz(simulated_echo, dx = 1) \n",
    "                    norm_sim_echo = [x/simulated_echo_area for x in simulated_echo]\n",
    "                    \n",
    "                    sim_xnew = np.linspace(0, len(norm_sim_echo)-1, num=(len(norm_sim_echo)*interpolation_factor), endpoint=True)\n",
    "                    sim_interpolator = interp1d((range(len(norm_sim_echo))), norm_sim_echo, kind='cubic')\n",
    "                    sim_interpolation = sim_interpolator(sim_xnew)\n",
    "                    plt.title(\"Finding CWT Peaks in a Simulated Echo\", fontsize = 14)\n",
    "                    plt.ylabel(\"Normalised Power\", fontsize = 14)\n",
    "                    plt.xticks([0,1000,2000,3000,4000,5000,6000,7000], [0,10,20,30,40,50,60,70])\n",
    "                    plt.xlabel(\"range bin number\", fontsize =14)\n",
    "                    plt.plot(sim_interpolation)\n",
    "                    #mean scattering surface index accounting for oversampling factor and interpolation factor:\n",
    "                    mean_scattering_surface_index = list(fasttimes_2[0]).index(0)/2*interpolation_factor\n",
    "#                     print(\"mean_scattering_surface_index\",mean_scattering_surface_index) \n",
    "                    major_peak_index = np.argmax(sim_interpolation) #finding the index of the largest peak in the echo\n",
    "#                     print(\"sim_interp_peak_index\",major_peak_index)\n",
    "                    peak_indices = signal.find_peaks(sim_interpolation, width = 150, height = 0.04)[0] #finding all the indices of all the peaks in the echo\n",
    "                    peak_indices_cwt = signal.find_peaks_cwt(sim_interpolation, widths = np.arange(10, 50, 10))\n",
    "                    plt.scatter(peak_indices_cwt, sim_interpolation[peak_indices_cwt])\n",
    "#                     print(\"peak indices: \",peak_indices)\n",
    "#                     print(np.argmax(sim_interpolation))\n",
    "#                     print(\"peak_indices_cwt: \",peak_indices_cwt)\n",
    "                    filtered_cwt_distances = [np.argmax(sim_interpolation)-peak_indices_cwt[i] for i in range(len(peak_indices_cwt))\n",
    "                                              if 40<np.argmax(sim_interpolation)-peak_indices_cwt[i]<600]\n",
    "                    if len(filtered_cwt_distances)>0:\n",
    "#                         print(\"filtered_cwt_distances\", filtered_cwt_distances)\n",
    "                        print(\"This is a questionable threshold fraction but may be appropriate if a lead is present off-nadir\")\n",
    "                    #finding the peak-to-trough depth of the largest (major) peak in the echo:\n",
    "                    max_peak_depth = signal.peak_prominences(sim_interpolation,peak_indices)[0][list(peak_indices).index(major_peak_index)]\n",
    "                    peak_threshold = sim_interpolation[int(mean_scattering_surface_index)]\n",
    "#                     print(\"max peak depth\",max_peak_depth)\n",
    "#                     print(\"peak threshold\", peak_threshold)\n",
    "                    mean_scattering_surface_threshold_fraction = 1 - (np.max(sim_interpolation) - peak_threshold)/max_peak_depth\n",
    "                    print(\"Threshold_fraction: \",mean_scattering_surface_threshold_fraction)\n",
    "\n",
    "                counter+=1\n",
    "\n"
   ]
  },
  {
   "cell_type": "code",
   "execution_count": 221,
   "metadata": {},
   "outputs": [
    {
     "data": {
      "image/png": "[encoded data removed]",
      "text/plain": [
       "<Figure size 432x288 with 1 Axes>"
      ]
     },
     "metadata": {
      "needs_background": "light"
     },
     "output_type": "display_data"
    }
   ],
   "source": [
    "\"\"\"Plotting the Cryosat-2 echo and corresponding simulated echo\"\"\"\n",
    "\n",
    "plt.title('Aligning CryoSat-2 echoes with Simulated Echoes', fontsize = 15)\n",
    "plt.plot(range(len(arr_obs_uninterp)), arr_obs_uninterp, 'b--',label = 'random Cryosat-2 echo')\n",
    "plt.plot(range(len(feature_arr[simulated_echo_number])), feature_arr[simulated_echo_number], 'r--',label = 'corresponding simulated echo')\n",
    "plt.plot(range(len(gaussian)), gaussian, label = 'abstract gaussian both are aligned to')\n",
    "plt.xlabel('range bin number', fontsize = 15)\n",
    "plt.ylabel('Normalised power', fontsize = 15)\n",
    "plt.legend(loc = 'upper right')\n",
    "plt.savefig('RandomCryoSat2EchoNL.png', dpi= 200)"
   ]
  },
  {
   "cell_type": "code",
   "execution_count": 222,
   "metadata": {},
   "outputs": [
    {
     "name": "stdout",
     "output_type": "stream",
     "text": [
      "Threshold_fraction:  0.06986510582596783\n"
     ]
    }
   ],
   "source": [
    "print(\"Threshold_fraction: \",mean_scattering_surface_threshold_fraction)  "
   ]
  },
  {
   "cell_type": "code",
   "execution_count": null,
   "metadata": {},
   "outputs": [],
   "source": []
  }
 ],
 "metadata": {
  "kernelspec": {
   "display_name": "Python 3",
   "language": "python",
   "name": "python3"
  },
  "language_info": {
   "codemirror_mode": {
    "name": "ipython",
    "version": 3
   },
   "file_extension": ".py",
   "mimetype": "text/x-python",
   "name": "python",
   "nbconvert_exporter": "python",
   "pygments_lexer": "ipython3",
   "version": "3.7.4"
  }
 },
 "nbformat": 4,
 "nbformat_minor": 4
}
