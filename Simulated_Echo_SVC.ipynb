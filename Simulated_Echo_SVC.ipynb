{
 "cells": [
  {
   "cell_type": "markdown",
   "metadata": {},
   "source": [
    "# Simulated_Echo_SVC\n",
    "## Claude de Rijke-Thomas\n",
    "### 15th March 2019"
   ]
  },
  {
   "cell_type": "markdown",
   "metadata": {},
   "source": [
    "Open in tensorflowenv: source activate tensorflowenv"
   ]
  },
  {
   "cell_type": "code",
   "execution_count": 1,
   "metadata": {},
   "outputs": [
    {
     "name": "stderr",
     "output_type": "stream",
     "text": [
      "/anaconda3/envs/tensorflowenv/lib/python3.5/site-packages/h5py/__init__.py:36: FutureWarning: Conversion of the second argument of issubdtype from `float` to `np.floating` is deprecated. In future, it will be treated as `np.float64 == np.dtype(float).type`.\n",
      "  from ._conv import register_converters as _register_converters\n",
      "Using TensorFlow backend.\n"
     ]
    }
   ],
   "source": [
    "import scipy.io\n",
    "import numpy as np\n",
    "from scipy.integrate import simps, trapz\n",
    "import matplotlib.pyplot as plt\n",
    "from keras.utils import to_categorical\n",
    "from sklearn.svm import SVC\n",
    "from sklearn.preprocessing import LabelEncoder\n",
    "from keras.utils import to_categorical\n",
    "from keras.wrappers.scikit_learn import KerasClassifier\n",
    "from sklearn.model_selection import cross_val_score\n",
    "from keras.models import Sequential\n",
    "from keras.layers import Dense, Dropout\n",
    "from keras.optimizers import RMSprop, adam\n",
    "from sklearn.neural_network import MLPClassifier\n",
    "from numba import jit, prange\n",
    "import pickle"
   ]
  },
  {
   "cell_type": "markdown",
   "metadata": {},
   "source": [
    "# Non Lead SVC"
   ]
  },
  {
   "cell_type": "markdown",
   "metadata": {},
   "source": [
    "NLP1 corresponds to:\n",
    "$$h\\_s = [0, 0.05, 0.10, 0.15] $$\n",
    "$$l\\_surf = [0:1:10]; % large-scale correlation length (default = 5 m) $$\n",
    "$$sigma\\_si = [0.001:0.0005:0.004]; % sea ice rms height (default = 0.002 m) $$\n",
    "$$sigma\\_surf = [0:0.05:0.5]; % large-scale rms roughness height (default = 0.1 m)$$\n",
    "NLP2 corresponds to:\n",
    "$$h\\_s =  [0.20, 0.25, 0.30, 0.35]$$\n",
    "$$l\\_surf = [0:1:10]; % large-scale correlation length (default = 5 m) $$\n",
    "$$sigma\\_si = [0.001:0.0005:0.004]; % sea ice rms height (default = 0.002 m) $$\n",
    "$$sigma\\_surf = [0:0.05:0.5]; % large-scale rms roughness height (default = 0.1 m)$$\n",
    "NLP3 corresponds to:\n",
    "$$h\\_s =  [0.40, 0.45, 0.50]$$\n",
    "$$l\\_surf = [0:1:10]; % large-scale correlation length (default = 5 m) $$\n",
    "$$sigma\\_si = [0.001:0.0005:0.004]; % sea ice rms height (default = 0.002 m) $$\n",
    "$$sigma\\_surf = [0:0.05:0.5]; % large-scale rms roughness height (default = 0.1 m)$$"
   ]
  },
  {
   "cell_type": "code",
   "execution_count": 2,
   "metadata": {},
   "outputs": [],
   "source": [
    "#Had to split the non-lead echo simulations into three parts for running on remote cluster: NLP1, NLP2 and NLP3\n",
    "#(each took about 24 hours for non-lead, and 27 for lead on Myriad):\n",
    "NLP1 = scipy.io.loadmat('/Users/claudederijkethomas/Desktop/Ice/Proj/FEM_Sim_NLP1.mat')\n",
    "NLP2 = scipy.io.loadmat('/Users/claudederijkethomas/Desktop/Ice/Proj/FEM_Sim_NLP2.mat')\n",
    "NLP3 = scipy.io.loadmat('/Users/claudederijkethomas/Desktop/Ice/Proj/FEM_Sim_NLP3.mat')\n",
    "\n",
    "#added arrays containing values of the parameters iterated over (to be used as SVC labels):\n",
    "sim_params = NLP1['parameters_lookup']\n",
    "sim_params_2 = NLP2['parameters_lookup']\n",
    "sim_params_3 = NLP3['parameters_lookup']\n",
    "\n",
    "#simulated waveforms:\n",
    "sim_echoes = NLP1['P_t_ml_range']\n",
    "sim_echoes_2 = NLP2['P_t_ml_range']\n",
    "sim_echoes_3 = NLP3['P_t_ml_range']\n"
   ]
  },
  {
   "cell_type": "code",
   "execution_count": 3,
   "metadata": {},
   "outputs": [],
   "source": [
    "def extractNL():\n",
    "    \"\"\"extracting (and preprocessing) the simulated echo arrays into a format that can be understood by the SVC.\n",
    "    (split into the three sections because I had to run three different scripts on Myriad to extract all the echoes).\n",
    "    If you want to just train the SVC using snow depths from 0 to 15cm, comment out the 2nd and 3rd quadruple-loop \n",
    "    structures (as labelled)\"\"\"\n",
    "    counter = 0\n",
    "    data_arr = []\n",
    "    label_arr = []\n",
    "    int_label_arr = []\n",
    "    #QUADRUPLE LOOP STRUCTURE 1\n",
    "    for i in range(len(sim_echoes[:][:][:][:])): #snow depth{s} (h_s)\n",
    "        for j in range(len(sim_echoes[0][:][:][:])): #l_surf{s}\n",
    "            for k in range(len(sim_echoes[0][0][:][:])): #sigma_si{s}\n",
    "                for l in range(len(sim_echoes[0][0][0][:])): #sigma_surf{s}\n",
    "                    simulated_echo = [sim_echoes[i][j][k][l][m][0] for m in range(len(sim_echoes[i][j][k][l]))]\n",
    "                    sim_echo_params = [sim_params[i][j][k][l][0][m] for m in range(len(sim_params[i][j][k][l][0]))]\n",
    "                    #calculating the integral of the simulated echo:\n",
    "                    simulated_echo_area = trapz(simulated_echo, dx = 1) \n",
    "                    #normalising the simulated echo:\n",
    "                    norm_sim_echo = [x/simulated_echo_area for x in simulated_echo]\n",
    "                    #\n",
    "                    data_arr.append(norm_sim_echo)\n",
    "                    label_arr.append(str(sim_echo_params))\n",
    "                    int_label_arr.append(counter)\n",
    "    #QUADRUPLE LOOP STRUCTURE 2\n",
    "    for i in range(len(sim_echoes_2[:][:][:][:])): #snow depth{s} (h_s)\n",
    "        for j in range(len(sim_echoes_2[0][:][:][:])): #l_surf{s}\n",
    "            for k in range(len(sim_echoes_2[0][0][:][:])): #sigma_si{s}\n",
    "                for l in range(len(sim_echoes_2[0][0][0][:])): #sigma_surf{s}\n",
    "                    simulated_echo = [sim_echoes_2[i][j][k][l][m][0] for m in range(len(sim_echoes_2[i][j][k][l]))]\n",
    "                    sim_echo_params = [sim_params_2[i][j][k][l][0][m] for m in range(len(sim_params_2[i][j][k][l][0]))]\n",
    "                    simulated_echo_area = trapz(simulated_echo, dx = 1) \n",
    "                    norm_sim_echo = [x/simulated_echo_area for x in simulated_echo]\n",
    "                    data_arr.append(norm_sim_echo)\n",
    "                    label_arr.append(str(sim_echo_params))\n",
    "                    int_label_arr.append(counter)\n",
    "                    counter+=1\n",
    "    #QUADRUPLE LOOP STRUCTURE 3\n",
    "    for i in range(len(sim_echoes_3[:][:][:][:])): #snow depth{s} (h_s)\n",
    "        for j in range(len(sim_echoes_3[0][:][:][:])): #l_surf{s}\n",
    "            for k in range(len(sim_echoes_3[0][0][:][:])): #sigma_si{s}\n",
    "                for l in range(len(sim_echoes_3[0][0][0][:])): #sigma_surf{s}\n",
    "                    simulated_echo = [sim_echoes_3[i][j][k][l][m][0] for m in range(len(sim_echoes_3[i][j][k][l]))]\n",
    "                    sim_echo_params = [sim_params_3[i][j][k][l][0][m] for m in range(len(sim_params_3[i][j][k][l][0]))]\n",
    "                    simulated_echo_area = trapz(simulated_echo, dx = 1) \n",
    "                    norm_sim_echo = [x/simulated_echo_area for x in simulated_echo]\n",
    "                    data_arr.append(norm_sim_echo)\n",
    "                    label_arr.append(str(sim_echo_params))\n",
    "                    int_label_arr.append(counter)\n",
    "                    counter+=1                \n",
    "    #returning features for both the SVC and neural network, labels for the SVC and for labels for the neural network\n",
    "    return np.array(data_arr), np.array(label_arr),np.array(int_label_arr)\n",
    "#features for both the SVC and neural network, labels for the SVC and for labels for the neural network\n",
    "feature_arr,label_arr,int_label_arr = extractNL() "
   ]
  },
  {
   "cell_type": "code",
   "execution_count": 4,
   "metadata": {},
   "outputs": [
    {
     "name": "stdout",
     "output_type": "stream",
     "text": [
      "Shape of the features array:  (3388, 139)\n",
      "Length of the labels array (consists of string labels that can easily be converted into arrays later using np.array(label[i]) ):  (3388,)\n",
      "(3388,)\n"
     ]
    }
   ],
   "source": [
    "print(\"Shape of the features array: \",np.shape(feature_arr)) #for features for both the SVC and neural network\n",
    "print(\"Length of the labels array (consists of string labels that can easily be converted into arrays later using np.array(label[i]) ): \",np.shape(label_arr)) #for labels for the SVC\n",
    "label_arr = np.array(label_arr, dtype = 'str')\n",
    "print(np.shape(int_label_arr)) #for labels for the neural network"
   ]
  },
  {
   "cell_type": "code",
   "execution_count": 5,
   "metadata": {
    "scrolled": true
   },
   "outputs": [
    {
     "data": {
      "text/plain": [
       "SVC(C=1.0, cache_size=200, class_weight=None, coef0=0.0,\n",
       "  decision_function_shape='ovr', degree=3, gamma='auto', kernel='rbf',\n",
       "  max_iter=-1, probability=False, random_state=None, shrinking=True,\n",
       "  tol=0.001, verbose=False)"
      ]
     },
     "execution_count": 5,
     "metadata": {},
     "output_type": "execute_result"
    }
   ],
   "source": [
    "clfNL = SVC(gamma='auto') #creating the non-lead suppport vector classification\n",
    "clfNL.fit(feature_arr, label_arr) #training the non-lead SVC using the simulated echoes and their corresponding parameters"
   ]
  },
  {
   "cell_type": "code",
   "execution_count": 6,
   "metadata": {},
   "outputs": [
    {
     "data": {
      "text/plain": [
       "0.9411764705882353"
      ]
     },
     "execution_count": 6,
     "metadata": {},
     "output_type": "execute_result"
    }
   ],
   "source": [
    "#denoising using 5% width normal distribution every 5 echoes \n",
    "def proportion_correct_predictions():\n",
    "    \"\"\"function that evaluates the denoising accuracy (the proportion of correct predictions when corrupting \n",
    "    the echoes. Every 20th echo is evaluated to speed up processing time.\"\"\"\n",
    "    correct_counter = 0\n",
    "    incorrect_counter = 0\n",
    "    #numba parallelisation to speed up compute time:\n",
    "    for i in prange(np.shape(feature_arr)[0]):\n",
    "        if i%20 ==0: #evaluating every 20th echo to speed up compute time\n",
    "            #extracting an echo:\n",
    "            echo = feature_arr[i]\n",
    "            # slightly modifying the echo (for subsequent denoising accuracy calculation):\n",
    "            echo_mod = [np.random.normal(loc = echo[j], scale = echo[j]*0.05)  if j%5==0 else echo[j] for j in range(len(echo))]\n",
    "            #checking if the modified echo is accurately predicted as the clean echo:\n",
    "            if clfNL.predict([echo])[0] == clfNL.predict([echo_mod])[0]:\n",
    "                #counting the number of modified echoes correctly denoised:\n",
    "                correct_counter+=1\n",
    "            else:\n",
    "                #counting the number of modified echoes incorrectly denoised:\n",
    "                incorrect_counter+=1\n",
    "    #returning the proportion of correct predictions:\n",
    "    return correct_counter/(incorrect_counter+correct_counter)\n",
    "proportion_correct_predictions()\n"
   ]
  },
  {
   "cell_type": "code",
   "execution_count": 9,
   "metadata": {},
   "outputs": [
    {
     "data": {
      "text/plain": [
       "0.911504424778761"
      ]
     },
     "execution_count": 9,
     "metadata": {},
     "output_type": "execute_result"
    }
   ],
   "source": [
    "def proportion_correct_predictions():\n",
    "    \"\"\"function that corrupts echoes by randomly drawing samples from normal distrubtions centred at each point \n",
    "    on the original echo (sigma = 2.5% of original echo point), and then evaluates the denoising accuracy (the \n",
    "    proportion of correct parameter predictions when corrupting the echoes. Every 10th echo is evaluated to speed \n",
    "    up processing time.\"\"\"\n",
    "    correct_counter = 0\n",
    "    incorrect_counter = 0\n",
    "    #numba parallelisation to speed up compute time:\n",
    "    for i in prange(np.shape(feature_arr)[0]):\n",
    "        if i%10 ==0: #evaluating every 20th echo to speed up compute time (get rid of to obtain 92% acc)\n",
    "            #extracting an echo:\n",
    "            echo = feature_arr[i]\n",
    "            # slightly modifying (corrupting) the echo (for subsequent denoising accuracy calculation):\n",
    "            echo_mod = [np.random.normal(loc = echo[j], scale = echo[j]*0.025) for j in range(len(echo))]\n",
    "            #checking if the modified echo is accurately predicted as the clean echo:\n",
    "            if clfNL.predict([echo])[0] == clfNL.predict([echo_mod])[0]:\n",
    "                #counting the number of modified echoes correctly denoised:\n",
    "                correct_counter+=1\n",
    "            else:\n",
    "                #counting the number of modified echoes incorrectly denoised:\n",
    "                incorrect_counter+=1\n",
    "    #returning the proportion of correct predictions:\n",
    "    return correct_counter/(incorrect_counter+correct_counter)\n",
    "proportion_correct_predictions()"
   ]
  },
  {
   "cell_type": "code",
   "execution_count": 10,
   "metadata": {},
   "outputs": [
    {
     "data": {
      "image/png": "[encoded data removed]",
      "text/plain": [
       "<matplotlib.figure.Figure at 0x1a2279bc50>"
      ]
     },
     "metadata": {},
     "output_type": "display_data"
    }
   ],
   "source": [
    "echo = feature_arr[1000] #extracting a random echo to plot\n",
    "echo_mod = [np.random.normal(loc = echo[j], scale = echo[j]*0.025) for j in range(len(echo))]\n",
    "plt.plot(echo, label = 'original echo')\n",
    "plt.plot(echo_mod, label = 'corrupted echo')\n",
    "plt.legend(loc = 'best')\n",
    "plt.ylabel('Normalised Power', fontsize = 15)\n",
    "plt.xlabel('range bin number', fontsize = 15)\n",
    "plt.savefig(\"EchoCorruptionErr2.5.png\", dpi = 200)"
   ]
  },
  {
   "cell_type": "markdown",
   "metadata": {},
   "source": [
    "# The Lead Part (Including Lead SVC)"
   ]
  },
  {
   "cell_type": "markdown",
   "metadata": {},
   "source": [
    "alphabetically:\n",
    "$$D\\_off = [0, 200, 400, 600, 800, 1000]; % distance off nadir (default = 0 m)$$\n",
    "$$h\\_s = [0, 0.05, 0.10, 0.15]; % snow depth, m$$\n",
    "$$L\\_ang = [0:10:90]; %lead angle from the across-track direction (between 0\\u00B0 and 90\\u00B0)$$\n",
    "$$L\\_w = [0:50:300]; % lead width (default = 100 m)$$"
   ]
  },
  {
   "cell_type": "code",
   "execution_count": 11,
   "metadata": {},
   "outputs": [],
   "source": [
    "#Lead echo simulations (first part of three, corresponding to snow depths of 0 to 15cm):\n",
    "LP1 = scipy.io.loadmat('/Users/claudederijkethomas/Desktop/Ice/Proj/FEM_Sim_LP1.mat')\n",
    "#added arrays containing values of the parameters iterated over (to be used as SVC labels):\n",
    "sim_params = LP1['parameters_lookup']\n",
    "#simulated lead-containing waveforms:\n",
    "sim_echoes = LP1['P_t_ml_range']"
   ]
  },
  {
   "cell_type": "code",
   "execution_count": 12,
   "metadata": {},
   "outputs": [],
   "source": [
    "def extractL():\n",
    "    \"\"\"extracting (and preprocessing) the simulated echo arrays into a format that can be understood by the SVC.\"\"\"\n",
    "    counter = 0\n",
    "    data_arr = []\n",
    "    label_arr = []\n",
    "    int_label_arr = []\n",
    "    for i in range(len(sim_echoes[:][:][:][:])): #snow depth{s} (h_s)\n",
    "        for j in range(len(sim_echoes[0][:][:][:])): #l_surf{s}\n",
    "            for k in range(len(sim_echoes[0][0][:][:])): #sigma_si{s}\n",
    "                for l in range(len(sim_echoes[0][0][0][:])): #sigma_surf{s}\n",
    "                    simulated_echo = [sim_echoes[i][j][k][l][m][0] for m in range(len(sim_echoes[i][j][k][l]))]\n",
    "                    sim_echo_params = [sim_params[i][j][k][l][0][m] for m in range(len(sim_params[i][j][k][l][0]))]\n",
    "                    simulated_echo_area = trapz(simulated_echo, dx = 1) \n",
    "                    norm_sim_echo = [x/simulated_echo_area for x in simulated_echo]\n",
    "                    data_arr.append(norm_sim_echo)\n",
    "                    label_arr.append(str(sim_echo_params))\n",
    "                    int_label_arr.append(counter)\n",
    "                    counter+=1\n",
    "    return np.array(data_arr), np.array(label_arr),np.array(int_label_arr)\n",
    "feature_arr,label_arr,int_label_arr = extractL() #for features for both the SVC and neural network, labels for the SVC and for labels for the neural network"
   ]
  },
  {
   "cell_type": "code",
   "execution_count": 13,
   "metadata": {},
   "outputs": [
    {
     "name": "stdout",
     "output_type": "stream",
     "text": [
      "(1680, 139)\n",
      "(1680,)\n",
      "(1680,)\n"
     ]
    }
   ],
   "source": [
    "print(np.shape(feature_arr)) #for features for both the SVC and neural network\n",
    "print(np.shape(label_arr)) #for labels for the SVC\n",
    "label_arr = np.array(label_arr, dtype = 'str')\n",
    "print(np.shape(int_label_arr)) #for labels for the neural network"
   ]
  },
  {
   "cell_type": "code",
   "execution_count": 14,
   "metadata": {},
   "outputs": [
    {
     "data": {
      "text/plain": [
       "SVC(C=1.0, cache_size=200, class_weight=None, coef0=0.0,\n",
       "  decision_function_shape='ovr', degree=3, gamma='auto', kernel='rbf',\n",
       "  max_iter=-1, probability=False, random_state=None, shrinking=True,\n",
       "  tol=0.001, verbose=False)"
      ]
     },
     "execution_count": 14,
     "metadata": {},
     "output_type": "execute_result"
    }
   ],
   "source": [
    "clfL = SVC(gamma='auto') #creating the lead suppport vector classification\n",
    "clfL.fit(feature_arr, label_arr) #training the lead SVC using the simulated echoes and their corresponding parameters"
   ]
  },
  {
   "cell_type": "code",
   "execution_count": 16,
   "metadata": {},
   "outputs": [
    {
     "data": {
      "text/plain": [
       "0.9017857142857143"
      ]
     },
     "execution_count": 16,
     "metadata": {},
     "output_type": "execute_result"
    }
   ],
   "source": [
    "def proportion_correct_predictions():\n",
    "    correct_counter = 0\n",
    "    incorrect_counter = 0\n",
    "    #removing the first 560 echoes (corresponding to D_off= 0m and 200m):\n",
    "    for i in prange(280*2,np.shape(feature_arr)[0]):\n",
    "        if i%10==0: #(evaluating every 10th echo to speed up compute time)\n",
    "            #extracting an echo\n",
    "            echo = feature_arr[i]\n",
    "            # slightly modifying the echo (for subsequent denoising accuracy calculation)\n",
    "            echo_mod = [np.random.normal(loc = echo[j], scale = echo[j]*0.025) for j in range(len(echo))]\n",
    "            #checking if the modified echo is accurately predicted as the clean echo:\n",
    "            if clfL.predict([echo])[0] == clfL.predict([echo_mod])[0]:\n",
    "                #counting the number of modified echoes correctly denoised:\n",
    "                correct_counter+=1\n",
    "            else:\n",
    "                #counting the number of modified echoes incorrectly denoised:\n",
    "                incorrect_counter+=1\n",
    "    #returning the proportion of correct predictions:\n",
    "    return correct_counter/(incorrect_counter+correct_counter)\n",
    "proportion_correct_predictions()"
   ]
  },
  {
   "cell_type": "markdown",
   "metadata": {},
   "source": [
    "# Evaluating Parameters of a CryoSat-2 Waveform"
   ]
  },
  {
   "cell_type": "code",
   "execution_count": 36,
   "metadata": {},
   "outputs": [
    {
     "name": "stdout",
     "output_type": "stream",
     "text": [
      "NON-LEAD PREDICTION:  [0.05, 8.0, 0.0015, 0.5]\n",
      "    And so the random CryoSat-2 echo is predicted to have a snow depth of 5cm, large-scale correlation length\n",
      "    length of 8cm, a sea ice rms height of 0.0015m and a large-scale rms roughness height of 0.5m. This is promising\n",
      "    as these values lie close to the default values when compared to the range in values of the parameters that \n",
      "    the SVC trained for, apart from sigma_surf, which lies on the edge of the parameter space. This has to be taken \n",
      "    with some speculation however, as it has been assumed that this echo doesnt contain a lead.\n",
      "LEAD PREDICTION:  [1000.0, 40.0, 200.0, 0.15]\n",
      "    And so the random CryoSat-2 echo is predicted to have a lead at a distance off-nadir of 1000m, at an angle\n",
      "    of 40 degrees from the across-track direction, with a lead-width of 200m. The snow depth is predicted to be 15cm\n"
     ]
    }
   ],
   "source": [
    "#Loading a CryoSat-2 echo from extracting_waveforms.ipynb file:\n",
    "pickle_in = open(\"CryoSat2Waveform.pickle\", 'rb')\n",
    "obs_arr = pickle.load(pickle_in)\n",
    "\"\"\"NON LEAD PREDICTION:\"\"\"\n",
    "print(\"NON-LEAD PREDICTION: \",np.array(clfNL.predict([obs_arr])[0]))\n",
    "print(\"\"\"    And so the random CryoSat-2 echo is predicted to have a snow depth of 5cm, large-scale correlation length\n",
    "    length of 8cm, a sea ice rms height of 0.0015m and a large-scale rms roughness height of 0.5m. This is promising\n",
    "    as these values lie close to the default values when compared to the range in values of the parameters that \n",
    "    the SVC trained for, apart from sigma_surf, which lies on the edge of the parameter space. This has to be taken \n",
    "    with some speculation however, as it has been assumed that this echo doesnt contain a lead.\"\"\")\n",
    "\"\"\"LEAD PREDICTION:\"\"\"\n",
    "print(\"LEAD PREDICTION: \",np.array(clfL.predict([obs_arr])[0]))\n",
    "print(\"\"\"    And so the random CryoSat-2 echo is predicted to have a lead at a distance off-nadir of 1000m, at an angle\n",
    "    of 40 degrees from the across-track direction, with a lead-width of 200m. The snow depth is predicted to be 15cm.\"\"\")"
   ]
  },
  {
   "cell_type": "markdown",
   "metadata": {},
   "source": [
    "# The Neural Network (Failed)"
   ]
  },
  {
   "cell_type": "code",
   "execution_count": 38,
   "metadata": {},
   "outputs": [],
   "source": [
    "one_hot_labels = to_categorical(int_label_arr)"
   ]
  },
  {
   "cell_type": "code",
   "execution_count": null,
   "metadata": {},
   "outputs": [],
   "source": [
    "def create_model():\n",
    "    model = Sequential()\n",
    "    #adding 400 nodes to the shallow layer:\n",
    "    model.add(Dense(400, input_dim=int(139), kernel_initializer='normal', activation='relu'))\n",
    "#     model.add(Dropout(0.2))\n",
    "    # Another hidden layer of 16 units\n",
    "    model.add(Dense(16, kernel_initializer='normal', activation='relu'))\n",
    "    #output layer\n",
    "    model.add(Dense(3388, kernel_initializer='normal', activation='softmax'))\n",
    "    # Compile model\n",
    "    model.compile(loss='categorical_crossentropy', optimizer='adam', metrics=['accuracy'])\n",
    "    return model"
   ]
  },
  {
   "cell_type": "code",
   "execution_count": null,
   "metadata": {},
   "outputs": [],
   "source": [
    "# Wrap our Keras model in an estimator compatible with scikit_learn\n",
    "estimator = KerasClassifier(build_fn=create_model, epochs=30, verbose=0)\n",
    "# Now we can use scikit_learn's cross_val_score to evaluate this model identically to the others\n",
    "cv_scores = cross_val_score(estimator, feature_arr, one_hot_labels, cv=15) # cv = train test split (k-1: 1)\n",
    "cv_scores.mean()"
   ]
  },
  {
   "cell_type": "markdown",
   "metadata": {},
   "source": [
    "Taking another approach"
   ]
  },
  {
   "cell_type": "code",
   "execution_count": 39,
   "metadata": {},
   "outputs": [
    {
     "data": {
      "text/plain": [
       "MLPClassifier(activation='relu', alpha=0.01, batch_size='auto', beta_1=0.9,\n",
       "       beta_2=0.999, early_stopping=False, epsilon=1e-08,\n",
       "       hidden_layer_sizes=(400, 16), learning_rate='constant',\n",
       "       learning_rate_init=0.001, max_iter=200, momentum=0.9,\n",
       "       nesterovs_momentum=True, power_t=0.5, random_state=1, shuffle=True,\n",
       "       solver='adam', tol=0.0001, validation_fraction=0.1, verbose=False,\n",
       "       warm_start=False)"
      ]
     },
     "execution_count": 39,
     "metadata": {},
     "output_type": "execute_result"
    }
   ],
   "source": [
    "clfNN = MLPClassifier(solver='adam', alpha=1e-2, hidden_layer_sizes=(400, 16), random_state=1)\n",
    "clfNN.fit(feature_arr, one_hot_labels)"
   ]
  },
  {
   "cell_type": "code",
   "execution_count": 42,
   "metadata": {},
   "outputs": [
    {
     "name": "stdout",
     "output_type": "stream",
     "text": [
      "0\n"
     ]
    }
   ],
   "source": [
    "print(np.max(np.array(clfNN.predict([feature_arr[1000]])[0])))"
   ]
  },
  {
   "cell_type": "code",
   "execution_count": null,
   "metadata": {},
   "outputs": [],
   "source": []
  }
 ],
 "metadata": {
  "kernelspec": {
   "display_name": "Python 3",
   "language": "python",
   "name": "python3"
  },
  "language_info": {
   "codemirror_mode": {
    "name": "ipython",
    "version": 3
   },
   "file_extension": ".py",
   "mimetype": "text/x-python",
   "name": "python",
   "nbconvert_exporter": "python",
   "pygments_lexer": "ipython3",
   "version": "3.5.4"
  }
 },
 "nbformat": 4,
 "nbformat_minor": 2
}
